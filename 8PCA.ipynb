{
 "cells": [
  {
   "cell_type": "code",
   "execution_count": 44,
   "id": "2709998e",
   "metadata": {
    "ExecuteTime": {
     "end_time": "2023-07-27T13:48:29.810629Z",
     "start_time": "2023-07-27T13:48:29.802887Z"
    }
   },
   "outputs": [],
   "source": [
    "import pandas as pd \n",
    "import numpy as np\n",
    "import matplotlib.pyplot as plt\n",
    "from sklearn.decomposition import PCA\n",
    "from sklearn.preprocessing import scale"
   ]
  },
  {
   "cell_type": "code",
   "execution_count": 45,
   "id": "1c342b8f",
   "metadata": {
    "ExecuteTime": {
     "end_time": "2023-07-27T13:48:30.509309Z",
     "start_time": "2023-07-27T13:48:30.490562Z"
    }
   },
   "outputs": [
    {
     "data": {
      "text/html": [
       "<div>\n",
       "<style scoped>\n",
       "    .dataframe tbody tr th:only-of-type {\n",
       "        vertical-align: middle;\n",
       "    }\n",
       "\n",
       "    .dataframe tbody tr th {\n",
       "        vertical-align: top;\n",
       "    }\n",
       "\n",
       "    .dataframe thead th {\n",
       "        text-align: right;\n",
       "    }\n",
       "</style>\n",
       "<table border=\"1\" class=\"dataframe\">\n",
       "  <thead>\n",
       "    <tr style=\"text-align: right;\">\n",
       "      <th></th>\n",
       "      <th>Type</th>\n",
       "      <th>Alcohol</th>\n",
       "      <th>Malic</th>\n",
       "      <th>Ash</th>\n",
       "      <th>Alcalinity</th>\n",
       "      <th>Magnesium</th>\n",
       "      <th>Phenols</th>\n",
       "      <th>Flavanoids</th>\n",
       "      <th>Nonflavanoids</th>\n",
       "      <th>Proanthocyanins</th>\n",
       "      <th>Color</th>\n",
       "      <th>Hue</th>\n",
       "      <th>Dilution</th>\n",
       "      <th>Proline</th>\n",
       "    </tr>\n",
       "  </thead>\n",
       "  <tbody>\n",
       "    <tr>\n",
       "      <th>0</th>\n",
       "      <td>1</td>\n",
       "      <td>14.23</td>\n",
       "      <td>1.71</td>\n",
       "      <td>2.43</td>\n",
       "      <td>15.6</td>\n",
       "      <td>127</td>\n",
       "      <td>2.80</td>\n",
       "      <td>3.06</td>\n",
       "      <td>0.28</td>\n",
       "      <td>2.29</td>\n",
       "      <td>5.64</td>\n",
       "      <td>1.04</td>\n",
       "      <td>3.92</td>\n",
       "      <td>1065</td>\n",
       "    </tr>\n",
       "    <tr>\n",
       "      <th>1</th>\n",
       "      <td>1</td>\n",
       "      <td>13.20</td>\n",
       "      <td>1.78</td>\n",
       "      <td>2.14</td>\n",
       "      <td>11.2</td>\n",
       "      <td>100</td>\n",
       "      <td>2.65</td>\n",
       "      <td>2.76</td>\n",
       "      <td>0.26</td>\n",
       "      <td>1.28</td>\n",
       "      <td>4.38</td>\n",
       "      <td>1.05</td>\n",
       "      <td>3.40</td>\n",
       "      <td>1050</td>\n",
       "    </tr>\n",
       "    <tr>\n",
       "      <th>2</th>\n",
       "      <td>1</td>\n",
       "      <td>13.16</td>\n",
       "      <td>2.36</td>\n",
       "      <td>2.67</td>\n",
       "      <td>18.6</td>\n",
       "      <td>101</td>\n",
       "      <td>2.80</td>\n",
       "      <td>3.24</td>\n",
       "      <td>0.30</td>\n",
       "      <td>2.81</td>\n",
       "      <td>5.68</td>\n",
       "      <td>1.03</td>\n",
       "      <td>3.17</td>\n",
       "      <td>1185</td>\n",
       "    </tr>\n",
       "    <tr>\n",
       "      <th>3</th>\n",
       "      <td>1</td>\n",
       "      <td>14.37</td>\n",
       "      <td>1.95</td>\n",
       "      <td>2.50</td>\n",
       "      <td>16.8</td>\n",
       "      <td>113</td>\n",
       "      <td>3.85</td>\n",
       "      <td>3.49</td>\n",
       "      <td>0.24</td>\n",
       "      <td>2.18</td>\n",
       "      <td>7.80</td>\n",
       "      <td>0.86</td>\n",
       "      <td>3.45</td>\n",
       "      <td>1480</td>\n",
       "    </tr>\n",
       "    <tr>\n",
       "      <th>4</th>\n",
       "      <td>1</td>\n",
       "      <td>13.24</td>\n",
       "      <td>2.59</td>\n",
       "      <td>2.87</td>\n",
       "      <td>21.0</td>\n",
       "      <td>118</td>\n",
       "      <td>2.80</td>\n",
       "      <td>2.69</td>\n",
       "      <td>0.39</td>\n",
       "      <td>1.82</td>\n",
       "      <td>4.32</td>\n",
       "      <td>1.04</td>\n",
       "      <td>2.93</td>\n",
       "      <td>735</td>\n",
       "    </tr>\n",
       "    <tr>\n",
       "      <th>...</th>\n",
       "      <td>...</td>\n",
       "      <td>...</td>\n",
       "      <td>...</td>\n",
       "      <td>...</td>\n",
       "      <td>...</td>\n",
       "      <td>...</td>\n",
       "      <td>...</td>\n",
       "      <td>...</td>\n",
       "      <td>...</td>\n",
       "      <td>...</td>\n",
       "      <td>...</td>\n",
       "      <td>...</td>\n",
       "      <td>...</td>\n",
       "      <td>...</td>\n",
       "    </tr>\n",
       "    <tr>\n",
       "      <th>173</th>\n",
       "      <td>3</td>\n",
       "      <td>13.71</td>\n",
       "      <td>5.65</td>\n",
       "      <td>2.45</td>\n",
       "      <td>20.5</td>\n",
       "      <td>95</td>\n",
       "      <td>1.68</td>\n",
       "      <td>0.61</td>\n",
       "      <td>0.52</td>\n",
       "      <td>1.06</td>\n",
       "      <td>7.70</td>\n",
       "      <td>0.64</td>\n",
       "      <td>1.74</td>\n",
       "      <td>740</td>\n",
       "    </tr>\n",
       "    <tr>\n",
       "      <th>174</th>\n",
       "      <td>3</td>\n",
       "      <td>13.40</td>\n",
       "      <td>3.91</td>\n",
       "      <td>2.48</td>\n",
       "      <td>23.0</td>\n",
       "      <td>102</td>\n",
       "      <td>1.80</td>\n",
       "      <td>0.75</td>\n",
       "      <td>0.43</td>\n",
       "      <td>1.41</td>\n",
       "      <td>7.30</td>\n",
       "      <td>0.70</td>\n",
       "      <td>1.56</td>\n",
       "      <td>750</td>\n",
       "    </tr>\n",
       "    <tr>\n",
       "      <th>175</th>\n",
       "      <td>3</td>\n",
       "      <td>13.27</td>\n",
       "      <td>4.28</td>\n",
       "      <td>2.26</td>\n",
       "      <td>20.0</td>\n",
       "      <td>120</td>\n",
       "      <td>1.59</td>\n",
       "      <td>0.69</td>\n",
       "      <td>0.43</td>\n",
       "      <td>1.35</td>\n",
       "      <td>10.20</td>\n",
       "      <td>0.59</td>\n",
       "      <td>1.56</td>\n",
       "      <td>835</td>\n",
       "    </tr>\n",
       "    <tr>\n",
       "      <th>176</th>\n",
       "      <td>3</td>\n",
       "      <td>13.17</td>\n",
       "      <td>2.59</td>\n",
       "      <td>2.37</td>\n",
       "      <td>20.0</td>\n",
       "      <td>120</td>\n",
       "      <td>1.65</td>\n",
       "      <td>0.68</td>\n",
       "      <td>0.53</td>\n",
       "      <td>1.46</td>\n",
       "      <td>9.30</td>\n",
       "      <td>0.60</td>\n",
       "      <td>1.62</td>\n",
       "      <td>840</td>\n",
       "    </tr>\n",
       "    <tr>\n",
       "      <th>177</th>\n",
       "      <td>3</td>\n",
       "      <td>14.13</td>\n",
       "      <td>4.10</td>\n",
       "      <td>2.74</td>\n",
       "      <td>24.5</td>\n",
       "      <td>96</td>\n",
       "      <td>2.05</td>\n",
       "      <td>0.76</td>\n",
       "      <td>0.56</td>\n",
       "      <td>1.35</td>\n",
       "      <td>9.20</td>\n",
       "      <td>0.61</td>\n",
       "      <td>1.60</td>\n",
       "      <td>560</td>\n",
       "    </tr>\n",
       "  </tbody>\n",
       "</table>\n",
       "<p>178 rows × 14 columns</p>\n",
       "</div>"
      ],
      "text/plain": [
       "     Type  Alcohol  Malic   Ash  Alcalinity  Magnesium  Phenols  Flavanoids  \\\n",
       "0       1    14.23   1.71  2.43        15.6        127     2.80        3.06   \n",
       "1       1    13.20   1.78  2.14        11.2        100     2.65        2.76   \n",
       "2       1    13.16   2.36  2.67        18.6        101     2.80        3.24   \n",
       "3       1    14.37   1.95  2.50        16.8        113     3.85        3.49   \n",
       "4       1    13.24   2.59  2.87        21.0        118     2.80        2.69   \n",
       "..    ...      ...    ...   ...         ...        ...      ...         ...   \n",
       "173     3    13.71   5.65  2.45        20.5         95     1.68        0.61   \n",
       "174     3    13.40   3.91  2.48        23.0        102     1.80        0.75   \n",
       "175     3    13.27   4.28  2.26        20.0        120     1.59        0.69   \n",
       "176     3    13.17   2.59  2.37        20.0        120     1.65        0.68   \n",
       "177     3    14.13   4.10  2.74        24.5         96     2.05        0.76   \n",
       "\n",
       "     Nonflavanoids  Proanthocyanins  Color   Hue  Dilution  Proline  \n",
       "0             0.28             2.29   5.64  1.04      3.92     1065  \n",
       "1             0.26             1.28   4.38  1.05      3.40     1050  \n",
       "2             0.30             2.81   5.68  1.03      3.17     1185  \n",
       "3             0.24             2.18   7.80  0.86      3.45     1480  \n",
       "4             0.39             1.82   4.32  1.04      2.93      735  \n",
       "..             ...              ...    ...   ...       ...      ...  \n",
       "173           0.52             1.06   7.70  0.64      1.74      740  \n",
       "174           0.43             1.41   7.30  0.70      1.56      750  \n",
       "175           0.43             1.35  10.20  0.59      1.56      835  \n",
       "176           0.53             1.46   9.30  0.60      1.62      840  \n",
       "177           0.56             1.35   9.20  0.61      1.60      560  \n",
       "\n",
       "[178 rows x 14 columns]"
      ]
     },
     "execution_count": 45,
     "metadata": {},
     "output_type": "execute_result"
    }
   ],
   "source": [
    "df=pd.read_csv('wine.csv')\n",
    "df"
   ]
  },
  {
   "cell_type": "code",
   "execution_count": 46,
   "id": "3c1a7717",
   "metadata": {
    "ExecuteTime": {
     "end_time": "2023-07-27T13:48:31.216677Z",
     "start_time": "2023-07-27T13:48:31.192112Z"
    }
   },
   "outputs": [
    {
     "name": "stdout",
     "output_type": "stream",
     "text": [
      "<class 'pandas.core.frame.DataFrame'>\n",
      "RangeIndex: 178 entries, 0 to 177\n",
      "Data columns (total 14 columns):\n",
      " #   Column           Non-Null Count  Dtype  \n",
      "---  ------           --------------  -----  \n",
      " 0   Type             178 non-null    int64  \n",
      " 1   Alcohol          178 non-null    float64\n",
      " 2   Malic            178 non-null    float64\n",
      " 3   Ash              178 non-null    float64\n",
      " 4   Alcalinity       178 non-null    float64\n",
      " 5   Magnesium        178 non-null    int64  \n",
      " 6   Phenols          178 non-null    float64\n",
      " 7   Flavanoids       178 non-null    float64\n",
      " 8   Nonflavanoids    178 non-null    float64\n",
      " 9   Proanthocyanins  178 non-null    float64\n",
      " 10  Color            178 non-null    float64\n",
      " 11  Hue              178 non-null    float64\n",
      " 12  Dilution         178 non-null    float64\n",
      " 13  Proline          178 non-null    int64  \n",
      "dtypes: float64(11), int64(3)\n",
      "memory usage: 19.6 KB\n"
     ]
    }
   ],
   "source": [
    "df.info()"
   ]
  },
  {
   "cell_type": "code",
   "execution_count": 47,
   "id": "89bb0f16",
   "metadata": {
    "ExecuteTime": {
     "end_time": "2023-07-27T13:48:31.906626Z",
     "start_time": "2023-07-27T13:48:31.870506Z"
    }
   },
   "outputs": [
    {
     "data": {
      "text/html": [
       "<div>\n",
       "<style scoped>\n",
       "    .dataframe tbody tr th:only-of-type {\n",
       "        vertical-align: middle;\n",
       "    }\n",
       "\n",
       "    .dataframe tbody tr th {\n",
       "        vertical-align: top;\n",
       "    }\n",
       "\n",
       "    .dataframe thead th {\n",
       "        text-align: right;\n",
       "    }\n",
       "</style>\n",
       "<table border=\"1\" class=\"dataframe\">\n",
       "  <thead>\n",
       "    <tr style=\"text-align: right;\">\n",
       "      <th></th>\n",
       "      <th>Type</th>\n",
       "      <th>Alcohol</th>\n",
       "      <th>Malic</th>\n",
       "      <th>Ash</th>\n",
       "      <th>Alcalinity</th>\n",
       "      <th>Magnesium</th>\n",
       "      <th>Phenols</th>\n",
       "      <th>Flavanoids</th>\n",
       "      <th>Nonflavanoids</th>\n",
       "      <th>Proanthocyanins</th>\n",
       "      <th>Color</th>\n",
       "      <th>Hue</th>\n",
       "      <th>Dilution</th>\n",
       "      <th>Proline</th>\n",
       "    </tr>\n",
       "  </thead>\n",
       "  <tbody>\n",
       "    <tr>\n",
       "      <th>count</th>\n",
       "      <td>178.000000</td>\n",
       "      <td>178.000000</td>\n",
       "      <td>178.000000</td>\n",
       "      <td>178.000000</td>\n",
       "      <td>178.000000</td>\n",
       "      <td>178.000000</td>\n",
       "      <td>178.000000</td>\n",
       "      <td>178.000000</td>\n",
       "      <td>178.000000</td>\n",
       "      <td>178.000000</td>\n",
       "      <td>178.000000</td>\n",
       "      <td>178.000000</td>\n",
       "      <td>178.000000</td>\n",
       "      <td>178.000000</td>\n",
       "    </tr>\n",
       "    <tr>\n",
       "      <th>mean</th>\n",
       "      <td>1.938202</td>\n",
       "      <td>13.000618</td>\n",
       "      <td>2.336348</td>\n",
       "      <td>2.366517</td>\n",
       "      <td>19.494944</td>\n",
       "      <td>99.741573</td>\n",
       "      <td>2.295112</td>\n",
       "      <td>2.029270</td>\n",
       "      <td>0.361854</td>\n",
       "      <td>1.590899</td>\n",
       "      <td>5.058090</td>\n",
       "      <td>0.957449</td>\n",
       "      <td>2.611685</td>\n",
       "      <td>746.893258</td>\n",
       "    </tr>\n",
       "    <tr>\n",
       "      <th>std</th>\n",
       "      <td>0.775035</td>\n",
       "      <td>0.811827</td>\n",
       "      <td>1.117146</td>\n",
       "      <td>0.274344</td>\n",
       "      <td>3.339564</td>\n",
       "      <td>14.282484</td>\n",
       "      <td>0.625851</td>\n",
       "      <td>0.998859</td>\n",
       "      <td>0.124453</td>\n",
       "      <td>0.572359</td>\n",
       "      <td>2.318286</td>\n",
       "      <td>0.228572</td>\n",
       "      <td>0.709990</td>\n",
       "      <td>314.907474</td>\n",
       "    </tr>\n",
       "    <tr>\n",
       "      <th>min</th>\n",
       "      <td>1.000000</td>\n",
       "      <td>11.030000</td>\n",
       "      <td>0.740000</td>\n",
       "      <td>1.360000</td>\n",
       "      <td>10.600000</td>\n",
       "      <td>70.000000</td>\n",
       "      <td>0.980000</td>\n",
       "      <td>0.340000</td>\n",
       "      <td>0.130000</td>\n",
       "      <td>0.410000</td>\n",
       "      <td>1.280000</td>\n",
       "      <td>0.480000</td>\n",
       "      <td>1.270000</td>\n",
       "      <td>278.000000</td>\n",
       "    </tr>\n",
       "    <tr>\n",
       "      <th>25%</th>\n",
       "      <td>1.000000</td>\n",
       "      <td>12.362500</td>\n",
       "      <td>1.602500</td>\n",
       "      <td>2.210000</td>\n",
       "      <td>17.200000</td>\n",
       "      <td>88.000000</td>\n",
       "      <td>1.742500</td>\n",
       "      <td>1.205000</td>\n",
       "      <td>0.270000</td>\n",
       "      <td>1.250000</td>\n",
       "      <td>3.220000</td>\n",
       "      <td>0.782500</td>\n",
       "      <td>1.937500</td>\n",
       "      <td>500.500000</td>\n",
       "    </tr>\n",
       "    <tr>\n",
       "      <th>50%</th>\n",
       "      <td>2.000000</td>\n",
       "      <td>13.050000</td>\n",
       "      <td>1.865000</td>\n",
       "      <td>2.360000</td>\n",
       "      <td>19.500000</td>\n",
       "      <td>98.000000</td>\n",
       "      <td>2.355000</td>\n",
       "      <td>2.135000</td>\n",
       "      <td>0.340000</td>\n",
       "      <td>1.555000</td>\n",
       "      <td>4.690000</td>\n",
       "      <td>0.965000</td>\n",
       "      <td>2.780000</td>\n",
       "      <td>673.500000</td>\n",
       "    </tr>\n",
       "    <tr>\n",
       "      <th>75%</th>\n",
       "      <td>3.000000</td>\n",
       "      <td>13.677500</td>\n",
       "      <td>3.082500</td>\n",
       "      <td>2.557500</td>\n",
       "      <td>21.500000</td>\n",
       "      <td>107.000000</td>\n",
       "      <td>2.800000</td>\n",
       "      <td>2.875000</td>\n",
       "      <td>0.437500</td>\n",
       "      <td>1.950000</td>\n",
       "      <td>6.200000</td>\n",
       "      <td>1.120000</td>\n",
       "      <td>3.170000</td>\n",
       "      <td>985.000000</td>\n",
       "    </tr>\n",
       "    <tr>\n",
       "      <th>max</th>\n",
       "      <td>3.000000</td>\n",
       "      <td>14.830000</td>\n",
       "      <td>5.800000</td>\n",
       "      <td>3.230000</td>\n",
       "      <td>30.000000</td>\n",
       "      <td>162.000000</td>\n",
       "      <td>3.880000</td>\n",
       "      <td>5.080000</td>\n",
       "      <td>0.660000</td>\n",
       "      <td>3.580000</td>\n",
       "      <td>13.000000</td>\n",
       "      <td>1.710000</td>\n",
       "      <td>4.000000</td>\n",
       "      <td>1680.000000</td>\n",
       "    </tr>\n",
       "  </tbody>\n",
       "</table>\n",
       "</div>"
      ],
      "text/plain": [
       "             Type     Alcohol       Malic         Ash  Alcalinity   Magnesium  \\\n",
       "count  178.000000  178.000000  178.000000  178.000000  178.000000  178.000000   \n",
       "mean     1.938202   13.000618    2.336348    2.366517   19.494944   99.741573   \n",
       "std      0.775035    0.811827    1.117146    0.274344    3.339564   14.282484   \n",
       "min      1.000000   11.030000    0.740000    1.360000   10.600000   70.000000   \n",
       "25%      1.000000   12.362500    1.602500    2.210000   17.200000   88.000000   \n",
       "50%      2.000000   13.050000    1.865000    2.360000   19.500000   98.000000   \n",
       "75%      3.000000   13.677500    3.082500    2.557500   21.500000  107.000000   \n",
       "max      3.000000   14.830000    5.800000    3.230000   30.000000  162.000000   \n",
       "\n",
       "          Phenols  Flavanoids  Nonflavanoids  Proanthocyanins       Color  \\\n",
       "count  178.000000  178.000000     178.000000       178.000000  178.000000   \n",
       "mean     2.295112    2.029270       0.361854         1.590899    5.058090   \n",
       "std      0.625851    0.998859       0.124453         0.572359    2.318286   \n",
       "min      0.980000    0.340000       0.130000         0.410000    1.280000   \n",
       "25%      1.742500    1.205000       0.270000         1.250000    3.220000   \n",
       "50%      2.355000    2.135000       0.340000         1.555000    4.690000   \n",
       "75%      2.800000    2.875000       0.437500         1.950000    6.200000   \n",
       "max      3.880000    5.080000       0.660000         3.580000   13.000000   \n",
       "\n",
       "              Hue    Dilution      Proline  \n",
       "count  178.000000  178.000000   178.000000  \n",
       "mean     0.957449    2.611685   746.893258  \n",
       "std      0.228572    0.709990   314.907474  \n",
       "min      0.480000    1.270000   278.000000  \n",
       "25%      0.782500    1.937500   500.500000  \n",
       "50%      0.965000    2.780000   673.500000  \n",
       "75%      1.120000    3.170000   985.000000  \n",
       "max      1.710000    4.000000  1680.000000  "
      ]
     },
     "execution_count": 47,
     "metadata": {},
     "output_type": "execute_result"
    }
   ],
   "source": [
    "df.describe()"
   ]
  },
  {
   "cell_type": "code",
   "execution_count": 48,
   "id": "6e3a1fee",
   "metadata": {
    "ExecuteTime": {
     "end_time": "2023-07-27T13:48:32.529437Z",
     "start_time": "2023-07-27T13:48:32.513476Z"
    }
   },
   "outputs": [
    {
     "data": {
      "text/plain": [
       "Type               0\n",
       "Alcohol            0\n",
       "Malic              0\n",
       "Ash                0\n",
       "Alcalinity         0\n",
       "Magnesium          0\n",
       "Phenols            0\n",
       "Flavanoids         0\n",
       "Nonflavanoids      0\n",
       "Proanthocyanins    0\n",
       "Color              0\n",
       "Hue                0\n",
       "Dilution           0\n",
       "Proline            0\n",
       "dtype: int64"
      ]
     },
     "execution_count": 48,
     "metadata": {},
     "output_type": "execute_result"
    }
   ],
   "source": [
    "df.isnull().sum()"
   ]
  },
  {
   "cell_type": "code",
   "execution_count": 49,
   "id": "5eeff49a",
   "metadata": {
    "ExecuteTime": {
     "end_time": "2023-07-27T13:48:33.144431Z",
     "start_time": "2023-07-27T13:48:33.111863Z"
    }
   },
   "outputs": [
    {
     "data": {
      "text/html": [
       "<div>\n",
       "<style scoped>\n",
       "    .dataframe tbody tr th:only-of-type {\n",
       "        vertical-align: middle;\n",
       "    }\n",
       "\n",
       "    .dataframe tbody tr th {\n",
       "        vertical-align: top;\n",
       "    }\n",
       "\n",
       "    .dataframe thead th {\n",
       "        text-align: right;\n",
       "    }\n",
       "</style>\n",
       "<table border=\"1\" class=\"dataframe\">\n",
       "  <thead>\n",
       "    <tr style=\"text-align: right;\">\n",
       "      <th></th>\n",
       "      <th>Type</th>\n",
       "      <th>Alcohol</th>\n",
       "      <th>Malic</th>\n",
       "      <th>Ash</th>\n",
       "      <th>Alcalinity</th>\n",
       "      <th>Magnesium</th>\n",
       "      <th>Phenols</th>\n",
       "      <th>Flavanoids</th>\n",
       "      <th>Nonflavanoids</th>\n",
       "      <th>Proanthocyanins</th>\n",
       "      <th>Color</th>\n",
       "      <th>Hue</th>\n",
       "      <th>Dilution</th>\n",
       "      <th>Proline</th>\n",
       "    </tr>\n",
       "  </thead>\n",
       "  <tbody>\n",
       "  </tbody>\n",
       "</table>\n",
       "</div>"
      ],
      "text/plain": [
       "Empty DataFrame\n",
       "Columns: [Type, Alcohol, Malic, Ash, Alcalinity, Magnesium, Phenols, Flavanoids, Nonflavanoids, Proanthocyanins, Color, Hue, Dilution, Proline]\n",
       "Index: []"
      ]
     },
     "execution_count": 49,
     "metadata": {},
     "output_type": "execute_result"
    }
   ],
   "source": [
    "df[df.duplicated()]"
   ]
  },
  {
   "cell_type": "code",
   "execution_count": 50,
   "id": "85060683",
   "metadata": {
    "ExecuteTime": {
     "end_time": "2023-07-27T13:48:33.806944Z",
     "start_time": "2023-07-27T13:48:33.782829Z"
    }
   },
   "outputs": [
    {
     "data": {
      "text/plain": [
       "array([[-1.21394365,  1.51861254, -0.5622498 , ...,  0.36217728,\n",
       "         1.84791957,  1.01300893],\n",
       "       [-1.21394365,  0.24628963, -0.49941338, ...,  0.40605066,\n",
       "         1.1134493 ,  0.96524152],\n",
       "       [-1.21394365,  0.19687903,  0.02123125, ...,  0.31830389,\n",
       "         0.78858745,  1.39514818],\n",
       "       ...,\n",
       "       [ 1.37386437,  0.33275817,  1.74474449, ..., -1.61212515,\n",
       "        -1.48544548,  0.28057537],\n",
       "       [ 1.37386437,  0.20923168,  0.22769377, ..., -1.56825176,\n",
       "        -1.40069891,  0.29649784],\n",
       "       [ 1.37386437,  1.39508604,  1.58316512, ..., -1.52437837,\n",
       "        -1.42894777, -0.59516041]])"
      ]
     },
     "execution_count": 50,
     "metadata": {},
     "output_type": "execute_result"
    }
   ],
   "source": [
    "df.iloc[:,1:]\n",
    "from sklearn.preprocessing import StandardScaler\n",
    "n_normal=scale(df)\n",
    "n_normal"
   ]
  },
  {
   "cell_type": "markdown",
   "id": "e64e87ef",
   "metadata": {},
   "source": [
    "## PCA"
   ]
  },
  {
   "cell_type": "code",
   "execution_count": 51,
   "id": "261c875c",
   "metadata": {
    "ExecuteTime": {
     "end_time": "2023-07-27T13:48:34.741761Z",
     "start_time": "2023-07-27T13:48:34.710271Z"
    }
   },
   "outputs": [],
   "source": [
    "pca = PCA(n_components=13)\n",
    "principalComponents = pca.fit_transform(n_normal)"
   ]
  },
  {
   "cell_type": "code",
   "execution_count": 52,
   "id": "962cf61c",
   "metadata": {
    "ExecuteTime": {
     "end_time": "2023-07-27T13:48:35.673887Z",
     "start_time": "2023-07-27T13:48:35.660473Z"
    }
   },
   "outputs": [
    {
     "data": {
      "text/plain": [
       "array([[-3.52293390e+00, -1.45309844e+00, -1.64795488e-01, ...,\n",
       "        -4.20493905e-01,  5.52927766e-01, -3.02978176e-01],\n",
       "       [-2.52885806e+00,  3.30019252e-01, -2.02670665e+00, ...,\n",
       "        -1.30019629e-01,  3.94971160e-01, -1.46645308e-01],\n",
       "       [-2.78502898e+00, -1.03693595e+00,  9.83237703e-01, ...,\n",
       "        -2.79074108e-01,  1.89799314e-03,  2.12780166e-02],\n",
       "       ...,\n",
       "       [ 3.02727243e+00, -2.75604024e+00, -9.40803036e-01, ...,\n",
       "         5.02640272e-01,  6.93336340e-01,  1.67035660e-01],\n",
       "       [ 2.75522166e+00, -2.29378408e+00, -5.50473677e-01, ...,\n",
       "         3.13785741e-01,  3.44119826e-01, -1.09514873e-01],\n",
       "       [ 3.49633565e+00, -2.76060799e+00,  1.01315115e+00, ...,\n",
       "        -2.38282390e-01, -1.89866131e-01, -1.64090011e-01]])"
      ]
     },
     "execution_count": 52,
     "metadata": {},
     "output_type": "execute_result"
    }
   ],
   "source": [
    "principalComponents"
   ]
  },
  {
   "cell_type": "code",
   "execution_count": 56,
   "id": "de9712ea",
   "metadata": {
    "ExecuteTime": {
     "end_time": "2023-07-27T13:50:12.075314Z",
     "start_time": "2023-07-27T13:50:12.043673Z"
    }
   },
   "outputs": [
    {
     "data": {
      "text/html": [
       "<div>\n",
       "<style scoped>\n",
       "    .dataframe tbody tr th:only-of-type {\n",
       "        vertical-align: middle;\n",
       "    }\n",
       "\n",
       "    .dataframe tbody tr th {\n",
       "        vertical-align: top;\n",
       "    }\n",
       "\n",
       "    .dataframe thead th {\n",
       "        text-align: right;\n",
       "    }\n",
       "</style>\n",
       "<table border=\"1\" class=\"dataframe\">\n",
       "  <thead>\n",
       "    <tr style=\"text-align: right;\">\n",
       "      <th></th>\n",
       "      <th>component1</th>\n",
       "      <th>component2</th>\n",
       "      <th>component3</th>\n",
       "      <th>component4</th>\n",
       "      <th>component5</th>\n",
       "      <th>component6</th>\n",
       "      <th>component7</th>\n",
       "      <th>component8</th>\n",
       "      <th>component9</th>\n",
       "      <th>component10</th>\n",
       "      <th>component11</th>\n",
       "      <th>component12</th>\n",
       "      <th>component13</th>\n",
       "    </tr>\n",
       "  </thead>\n",
       "  <tbody>\n",
       "    <tr>\n",
       "      <th>0</th>\n",
       "      <td>-3.522934</td>\n",
       "      <td>-1.453098</td>\n",
       "      <td>-0.164795</td>\n",
       "      <td>-0.013273</td>\n",
       "      <td>0.737345</td>\n",
       "      <td>-0.300716</td>\n",
       "      <td>0.573876</td>\n",
       "      <td>0.055637</td>\n",
       "      <td>-0.458765</td>\n",
       "      <td>1.065570</td>\n",
       "      <td>-0.420494</td>\n",
       "      <td>0.552928</td>\n",
       "      <td>-0.302978</td>\n",
       "    </tr>\n",
       "    <tr>\n",
       "      <th>1</th>\n",
       "      <td>-2.528858</td>\n",
       "      <td>0.330019</td>\n",
       "      <td>-2.026707</td>\n",
       "      <td>-0.417144</td>\n",
       "      <td>-0.283214</td>\n",
       "      <td>-0.884309</td>\n",
       "      <td>-0.029716</td>\n",
       "      <td>1.010372</td>\n",
       "      <td>0.218806</td>\n",
       "      <td>-0.020182</td>\n",
       "      <td>-0.130020</td>\n",
       "      <td>0.394971</td>\n",
       "      <td>-0.146645</td>\n",
       "    </tr>\n",
       "    <tr>\n",
       "      <th>2</th>\n",
       "      <td>-2.785029</td>\n",
       "      <td>-1.036936</td>\n",
       "      <td>0.983238</td>\n",
       "      <td>0.664232</td>\n",
       "      <td>-0.387565</td>\n",
       "      <td>0.468842</td>\n",
       "      <td>0.488305</td>\n",
       "      <td>-0.268957</td>\n",
       "      <td>1.222769</td>\n",
       "      <td>-0.106249</td>\n",
       "      <td>-0.279074</td>\n",
       "      <td>0.001898</td>\n",
       "      <td>0.021278</td>\n",
       "    </tr>\n",
       "    <tr>\n",
       "      <th>3</th>\n",
       "      <td>-3.922588</td>\n",
       "      <td>-2.768210</td>\n",
       "      <td>-0.174968</td>\n",
       "      <td>0.565088</td>\n",
       "      <td>-0.324360</td>\n",
       "      <td>0.262616</td>\n",
       "      <td>-0.398364</td>\n",
       "      <td>0.618844</td>\n",
       "      <td>-0.114658</td>\n",
       "      <td>0.107671</td>\n",
       "      <td>0.773866</td>\n",
       "      <td>-0.230929</td>\n",
       "      <td>-0.501277</td>\n",
       "    </tr>\n",
       "    <tr>\n",
       "      <th>4</th>\n",
       "      <td>-1.407511</td>\n",
       "      <td>-0.867773</td>\n",
       "      <td>2.025829</td>\n",
       "      <td>-0.440906</td>\n",
       "      <td>0.227949</td>\n",
       "      <td>-0.593762</td>\n",
       "      <td>0.447876</td>\n",
       "      <td>0.434937</td>\n",
       "      <td>-0.261548</td>\n",
       "      <td>0.112434</td>\n",
       "      <td>-0.537931</td>\n",
       "      <td>-0.226686</td>\n",
       "      <td>0.274109</td>\n",
       "    </tr>\n",
       "    <tr>\n",
       "      <th>...</th>\n",
       "      <td>...</td>\n",
       "      <td>...</td>\n",
       "      <td>...</td>\n",
       "      <td>...</td>\n",
       "      <td>...</td>\n",
       "      <td>...</td>\n",
       "      <td>...</td>\n",
       "      <td>...</td>\n",
       "      <td>...</td>\n",
       "      <td>...</td>\n",
       "      <td>...</td>\n",
       "      <td>...</td>\n",
       "      <td>...</td>\n",
       "    </tr>\n",
       "    <tr>\n",
       "      <th>173</th>\n",
       "      <td>3.627996</td>\n",
       "      <td>-2.206617</td>\n",
       "      <td>-0.343668</td>\n",
       "      <td>0.751705</td>\n",
       "      <td>-1.004109</td>\n",
       "      <td>-1.143155</td>\n",
       "      <td>0.843455</td>\n",
       "      <td>-0.206626</td>\n",
       "      <td>-0.125419</td>\n",
       "      <td>-0.392619</td>\n",
       "      <td>0.136783</td>\n",
       "      <td>0.174807</td>\n",
       "      <td>-0.198803</td>\n",
       "    </tr>\n",
       "    <tr>\n",
       "      <th>174</th>\n",
       "      <td>2.942729</td>\n",
       "      <td>-1.752263</td>\n",
       "      <td>0.207480</td>\n",
       "      <td>0.399381</td>\n",
       "      <td>0.154223</td>\n",
       "      <td>-0.062465</td>\n",
       "      <td>0.139947</td>\n",
       "      <td>-0.565588</td>\n",
       "      <td>0.055341</td>\n",
       "      <td>-0.236267</td>\n",
       "      <td>0.254286</td>\n",
       "      <td>-0.277519</td>\n",
       "      <td>-0.185064</td>\n",
       "    </tr>\n",
       "    <tr>\n",
       "      <th>175</th>\n",
       "      <td>3.027272</td>\n",
       "      <td>-2.756040</td>\n",
       "      <td>-0.940803</td>\n",
       "      <td>0.607758</td>\n",
       "      <td>1.128136</td>\n",
       "      <td>0.005290</td>\n",
       "      <td>0.733026</td>\n",
       "      <td>0.052545</td>\n",
       "      <td>-0.027881</td>\n",
       "      <td>-0.212749</td>\n",
       "      <td>0.502640</td>\n",
       "      <td>0.693336</td>\n",
       "      <td>0.167036</td>\n",
       "    </tr>\n",
       "    <tr>\n",
       "      <th>176</th>\n",
       "      <td>2.755222</td>\n",
       "      <td>-2.293784</td>\n",
       "      <td>-0.550474</td>\n",
       "      <td>-0.391570</td>\n",
       "      <td>1.067083</td>\n",
       "      <td>1.012562</td>\n",
       "      <td>0.755423</td>\n",
       "      <td>0.426512</td>\n",
       "      <td>0.048784</td>\n",
       "      <td>0.479793</td>\n",
       "      <td>0.313786</td>\n",
       "      <td>0.344120</td>\n",
       "      <td>-0.109515</td>\n",
       "    </tr>\n",
       "    <tr>\n",
       "      <th>177</th>\n",
       "      <td>3.496336</td>\n",
       "      <td>-2.760608</td>\n",
       "      <td>1.013151</td>\n",
       "      <td>0.349630</td>\n",
       "      <td>-1.005136</td>\n",
       "      <td>0.377223</td>\n",
       "      <td>0.015307</td>\n",
       "      <td>-0.325002</td>\n",
       "      <td>-0.719983</td>\n",
       "      <td>0.079908</td>\n",
       "      <td>-0.238282</td>\n",
       "      <td>-0.189866</td>\n",
       "      <td>-0.164090</td>\n",
       "    </tr>\n",
       "  </tbody>\n",
       "</table>\n",
       "<p>178 rows × 13 columns</p>\n",
       "</div>"
      ],
      "text/plain": [
       "     component1  component2  component3  component4  component5  component6  \\\n",
       "0     -3.522934   -1.453098   -0.164795   -0.013273    0.737345   -0.300716   \n",
       "1     -2.528858    0.330019   -2.026707   -0.417144   -0.283214   -0.884309   \n",
       "2     -2.785029   -1.036936    0.983238    0.664232   -0.387565    0.468842   \n",
       "3     -3.922588   -2.768210   -0.174968    0.565088   -0.324360    0.262616   \n",
       "4     -1.407511   -0.867773    2.025829   -0.440906    0.227949   -0.593762   \n",
       "..          ...         ...         ...         ...         ...         ...   \n",
       "173    3.627996   -2.206617   -0.343668    0.751705   -1.004109   -1.143155   \n",
       "174    2.942729   -1.752263    0.207480    0.399381    0.154223   -0.062465   \n",
       "175    3.027272   -2.756040   -0.940803    0.607758    1.128136    0.005290   \n",
       "176    2.755222   -2.293784   -0.550474   -0.391570    1.067083    1.012562   \n",
       "177    3.496336   -2.760608    1.013151    0.349630   -1.005136    0.377223   \n",
       "\n",
       "     component7  component8  component9  component10  component11  \\\n",
       "0      0.573876    0.055637   -0.458765     1.065570    -0.420494   \n",
       "1     -0.029716    1.010372    0.218806    -0.020182    -0.130020   \n",
       "2      0.488305   -0.268957    1.222769    -0.106249    -0.279074   \n",
       "3     -0.398364    0.618844   -0.114658     0.107671     0.773866   \n",
       "4      0.447876    0.434937   -0.261548     0.112434    -0.537931   \n",
       "..          ...         ...         ...          ...          ...   \n",
       "173    0.843455   -0.206626   -0.125419    -0.392619     0.136783   \n",
       "174    0.139947   -0.565588    0.055341    -0.236267     0.254286   \n",
       "175    0.733026    0.052545   -0.027881    -0.212749     0.502640   \n",
       "176    0.755423    0.426512    0.048784     0.479793     0.313786   \n",
       "177    0.015307   -0.325002   -0.719983     0.079908    -0.238282   \n",
       "\n",
       "     component12  component13  \n",
       "0       0.552928    -0.302978  \n",
       "1       0.394971    -0.146645  \n",
       "2       0.001898     0.021278  \n",
       "3      -0.230929    -0.501277  \n",
       "4      -0.226686     0.274109  \n",
       "..           ...          ...  \n",
       "173     0.174807    -0.198803  \n",
       "174    -0.277519    -0.185064  \n",
       "175     0.693336     0.167036  \n",
       "176     0.344120    -0.109515  \n",
       "177    -0.189866    -0.164090  \n",
       "\n",
       "[178 rows x 13 columns]"
      ]
     },
     "execution_count": 56,
     "metadata": {},
     "output_type": "execute_result"
    }
   ],
   "source": [
    "PCA_dataset=pd.DataFrame(data=principalComponents,columns=['component1', 'component2', 'component3', 'component4', \n",
    "                                                                  'component5', 'component6','component7', 'component8', 'component9',\n",
    "                                                                 'component10', 'component11', 'component12', 'component13'])\n",
    "                                                           \n",
    "PCA_dataset"
   ]
  },
  {
   "cell_type": "code",
   "execution_count": 57,
   "id": "20796a82",
   "metadata": {
    "ExecuteTime": {
     "end_time": "2023-07-27T13:50:37.746362Z",
     "start_time": "2023-07-27T13:50:37.730849Z"
    }
   },
   "outputs": [
    {
     "data": {
      "text/plain": [
       "array([0.39542486, 0.17836259, 0.10329102, 0.06627984, 0.06267875,\n",
       "       0.0480556 , 0.03955707, 0.02500244, 0.02103871, 0.01873615,\n",
       "       0.01613203, 0.01205691, 0.00925458])"
      ]
     },
     "execution_count": 57,
     "metadata": {},
     "output_type": "execute_result"
    }
   ],
   "source": [
    "var= pca.explained_variance_ratio_\n",
    "var"
   ]
  },
  {
   "cell_type": "code",
   "execution_count": 58,
   "id": "50f9f8ea",
   "metadata": {
    "ExecuteTime": {
     "end_time": "2023-07-27T13:51:02.870265Z",
     "start_time": "2023-07-27T13:51:02.854114Z"
    }
   },
   "outputs": [
    {
     "data": {
      "text/plain": [
       "array([39.54, 57.38, 67.71, 74.34, 80.61, 85.42, 89.38, 91.88, 93.98,\n",
       "       95.85, 97.46, 98.67, 99.6 ])"
      ]
     },
     "execution_count": 58,
     "metadata": {},
     "output_type": "execute_result"
    }
   ],
   "source": [
    "var1 = np.cumsum(np.round(var,decimals = 4)*100)\n",
    "var1"
   ]
  },
  {
   "cell_type": "code",
   "execution_count": 59,
   "id": "5a4d2309",
   "metadata": {
    "ExecuteTime": {
     "end_time": "2023-07-27T13:51:14.598511Z",
     "start_time": "2023-07-27T13:51:14.582076Z"
    }
   },
   "outputs": [
    {
     "data": {
      "text/plain": [
       "array([[ 0.39366953, -0.13632501,  0.22267638, -0.00225793,  0.22429849,\n",
       "        -0.12463016, -0.35926404, -0.39071171,  0.2670012 , -0.2790625 ,\n",
       "         0.08931829, -0.27682265, -0.35052618, -0.26951525],\n",
       "       [-0.00569041, -0.48416087, -0.22359095, -0.31585588,  0.01161574,\n",
       "        -0.30055143, -0.06711983,  0.00131345, -0.0269887 , -0.04122256,\n",
       "        -0.52978274,  0.27790735,  0.16277625, -0.36605886],\n",
       "       [ 0.00121795, -0.20740081,  0.08879606,  0.62610236,  0.6119896 ,\n",
       "         0.13098458,  0.14650775,  0.15096275,  0.16997551,  0.14987959,\n",
       "        -0.1372663 ,  0.08532854,  0.16620436, -0.12668685],\n",
       "       [ 0.12246373, -0.08191848,  0.46988824, -0.24984122,  0.07199322,\n",
       "        -0.16321412,  0.19098521,  0.14461667, -0.32801272,  0.46275771,\n",
       "         0.07211248, -0.43466618,  0.15672341, -0.2557949 ],\n",
       "       [ 0.15758395, -0.25089415, -0.18860015, -0.0935236 ,  0.0465675 ,\n",
       "         0.77833048, -0.14466563, -0.11200553, -0.43257916,  0.0915882 ,\n",
       "        -0.0462696 , -0.02986657, -0.14419358, -0.08440794],\n",
       "       [ 0.20033864, -0.13517139, -0.59841948, -0.10799983,  0.08811224,\n",
       "        -0.14483831,  0.14809748,  0.06247252,  0.25868639,  0.46627764,\n",
       "         0.42525454, -0.01565089, -0.21770365, -0.0665655 ],\n",
       "       [-0.05938234, -0.09269887,  0.3743698 , -0.16708856, -0.26872469,\n",
       "         0.32957951, -0.03789829, -0.06773223,  0.61111195,  0.42292282,\n",
       "        -0.18613617,  0.19204101, -0.0785098 ,  0.0542037 ],\n",
       "       [-0.07179553, -0.42154435, -0.08757556,  0.17208034, -0.41324857,\n",
       "         0.14881189,  0.36343884,  0.175405  ,  0.23075135, -0.3437392 ,\n",
       "         0.04069617, -0.48362564,  0.06865116, -0.11146671],\n",
       "       [-0.16236882, -0.45019071, -0.00602569,  0.26249446, -0.11863342,\n",
       "        -0.25253628, -0.40637354, -0.09091933, -0.15912282,  0.26578679,\n",
       "        -0.07526459, -0.21241681, -0.08426484,  0.54490539],\n",
       "       [-0.19899373,  0.31127983, -0.32592413, -0.12452347,  0.15716811,\n",
       "         0.12773363, -0.30772263, -0.14044   ,  0.24054263,  0.10869629,\n",
       "        -0.21704255, -0.50966073,  0.45570504, -0.04620802],\n",
       "       [ 0.01444169, -0.22154641,  0.06839251, -0.49452428,  0.47461722,\n",
       "         0.07119731,  0.29740957, -0.03219187,  0.12200984, -0.23292405,\n",
       "         0.01972448, -0.06140493,  0.06646166,  0.55130818],\n",
       "       [ 0.01575769, -0.26411262,  0.1192121 , -0.04502305, -0.06131271,\n",
       "         0.06116074, -0.30087591, -0.05001396,  0.04266558, -0.09334264,\n",
       "         0.59795428,  0.25774292,  0.61109218, -0.07268036],\n",
       "       [-0.49224318, -0.05610645,  0.06675544, -0.19201787,  0.20007784,\n",
       "         0.05829909, -0.35952714,  0.59834288,  0.06403952, -0.11013538,\n",
       "         0.15917751, -0.04923091, -0.32941979, -0.17322892]])"
      ]
     },
     "execution_count": 59,
     "metadata": {},
     "output_type": "execute_result"
    }
   ],
   "source": [
    "pca.components_"
   ]
  },
  {
   "cell_type": "code",
   "execution_count": 60,
   "id": "d08917c4",
   "metadata": {
    "ExecuteTime": {
     "end_time": "2023-07-27T13:51:51.415117Z",
     "start_time": "2023-07-27T13:51:51.292339Z"
    }
   },
   "outputs": [
    {
     "data": {
      "text/plain": [
       "[<matplotlib.lines.Line2D at 0x21f9fb6b5b0>]"
      ]
     },
     "execution_count": 60,
     "metadata": {},
     "output_type": "execute_result"
    },
    {
     "data": {
      "image/png": "[encoded data removed]",
      "text/plain": [
       "<Figure size 640x480 with 1 Axes>"
      ]
     },
     "metadata": {},
     "output_type": "display_data"
    }
   ],
   "source": [
    "plt.plot(var1,color=\"blue\")"
   ]
  },
  {
   "cell_type": "code",
   "execution_count": 61,
   "id": "a62d6045",
   "metadata": {
    "ExecuteTime": {
     "end_time": "2023-07-27T13:52:09.146951Z",
     "start_time": "2023-07-27T13:52:09.122233Z"
    }
   },
   "outputs": [],
   "source": [
    "principal_component1 = PCA_dataset['component1']\n",
    "principal_component2 = PCA_dataset['component2']\n",
    "principal_component3 = PCA_dataset['component3']"
   ]
  },
  {
   "cell_type": "code",
   "execution_count": 62,
   "id": "650cd94b",
   "metadata": {
    "ExecuteTime": {
     "end_time": "2023-07-27T13:52:42.340497Z",
     "start_time": "2023-07-27T13:52:42.326570Z"
    }
   },
   "outputs": [
    {
     "data": {
      "text/html": [
       "<div>\n",
       "<style scoped>\n",
       "    .dataframe tbody tr th:only-of-type {\n",
       "        vertical-align: middle;\n",
       "    }\n",
       "\n",
       "    .dataframe tbody tr th {\n",
       "        vertical-align: top;\n",
       "    }\n",
       "\n",
       "    .dataframe thead th {\n",
       "        text-align: right;\n",
       "    }\n",
       "</style>\n",
       "<table border=\"1\" class=\"dataframe\">\n",
       "  <thead>\n",
       "    <tr style=\"text-align: right;\">\n",
       "      <th></th>\n",
       "      <th>component1</th>\n",
       "      <th>component2</th>\n",
       "      <th>component3</th>\n",
       "    </tr>\n",
       "  </thead>\n",
       "  <tbody>\n",
       "    <tr>\n",
       "      <th>0</th>\n",
       "      <td>-3.522934</td>\n",
       "      <td>-1.453098</td>\n",
       "      <td>-0.164795</td>\n",
       "    </tr>\n",
       "    <tr>\n",
       "      <th>1</th>\n",
       "      <td>-2.528858</td>\n",
       "      <td>0.330019</td>\n",
       "      <td>-2.026707</td>\n",
       "    </tr>\n",
       "    <tr>\n",
       "      <th>2</th>\n",
       "      <td>-2.785029</td>\n",
       "      <td>-1.036936</td>\n",
       "      <td>0.983238</td>\n",
       "    </tr>\n",
       "    <tr>\n",
       "      <th>3</th>\n",
       "      <td>-3.922588</td>\n",
       "      <td>-2.768210</td>\n",
       "      <td>-0.174968</td>\n",
       "    </tr>\n",
       "    <tr>\n",
       "      <th>4</th>\n",
       "      <td>-1.407511</td>\n",
       "      <td>-0.867773</td>\n",
       "      <td>2.025829</td>\n",
       "    </tr>\n",
       "  </tbody>\n",
       "</table>\n",
       "</div>"
      ],
      "text/plain": [
       "   component1  component2  component3\n",
       "0   -3.522934   -1.453098   -0.164795\n",
       "1   -2.528858    0.330019   -2.026707\n",
       "2   -2.785029   -1.036936    0.983238\n",
       "3   -3.922588   -2.768210   -0.174968\n",
       "4   -1.407511   -0.867773    2.025829"
      ]
     },
     "execution_count": 62,
     "metadata": {},
     "output_type": "execute_result"
    }
   ],
   "source": [
    "pca_dff = pd.concat([principal_component1, principal_component2, principal_component3], axis = 1)\n",
    "pca_dff.head()"
   ]
  },
  {
   "cell_type": "code",
   "execution_count": 63,
   "id": "0bf50e88",
   "metadata": {
    "ExecuteTime": {
     "end_time": "2023-07-27T13:53:10.807569Z",
     "start_time": "2023-07-27T13:53:10.651118Z"
    }
   },
   "outputs": [
    {
     "name": "stderr",
     "output_type": "stream",
     "text": [
      "C:\\Users\\lilly\\AppData\\Local\\Temp\\ipykernel_10736\\653098571.py:1: MatplotlibDeprecationWarning: Calling gca() with keyword arguments was deprecated in Matplotlib 3.4. Starting two minor releases later, gca() will take no keyword arguments. The gca() function should only be used to get the current axes, or if no axes exist, create new axes with default keyword arguments. To create a new axes with non-default arguments, use plt.axes() or plt.subplot().\n",
      "  ax = plt.figure(figsize=(10,10)).gca(projection='3d')\n"
     ]
    },
    {
     "data": {
      "image/png": "[encoded data removed]",
      "text/plain": [
       "<Figure size 1000x1000 with 1 Axes>"
      ]
     },
     "metadata": {},
     "output_type": "display_data"
    }
   ],
   "source": [
    "ax = plt.figure(figsize=(10,10)).gca(projection='3d')\n",
    "plt.title('3D Principal Component Analysis (PCA)')\n",
    "ax.scatter(\n",
    "    xs=principal_component1, \n",
    "    ys=principal_component2, \n",
    "    zs=principal_component3, \n",
    ")\n",
    "ax.set_xlabel('pca-one')\n",
    "ax.set_ylabel('pca-two')\n",
    "ax.set_zlabel('pca-three')\n",
    "plt.show()"
   ]
  },
  {
   "cell_type": "code",
   "execution_count": 65,
   "id": "91ecb3cb",
   "metadata": {
    "ExecuteTime": {
     "end_time": "2023-07-27T13:53:53.798150Z",
     "start_time": "2023-07-27T13:53:53.773506Z"
    }
   },
   "outputs": [
    {
     "name": "stdout",
     "output_type": "stream",
     "text": [
      "[[0.10320049 0.27963866 0.44509635]\n",
      " [0.21487526 0.52098906 0.25763698]\n",
      " [0.18609695 0.33596752 0.56068165]\n",
      " [0.05830319 0.10163428 0.44407215]\n",
      " [0.3408477  0.35886423 0.665651  ]\n",
      " [0.12957845 0.18799427 0.39836047]\n",
      " [0.18996723 0.31671571 0.36328868]\n",
      " [0.23015259 0.25822799 0.47636036]\n",
      " [0.184948   0.3513648  0.28338933]\n",
      " [0.16131831 0.36854047 0.36264391]\n",
      " [0.08570297 0.29866592 0.41921538]\n",
      " [0.26197093 0.39335098 0.34171951]\n",
      " [0.22503101 0.38447976 0.37454723]\n",
      " [0.08628647 0.32200106 0.34049133]\n",
      " [0.         0.19068184 0.33458318]\n",
      " [0.20588065 0.25076521 0.48359966]\n",
      " [0.22087756 0.16082599 0.5454148 ]\n",
      " [0.24887231 0.25520856 0.54168516]\n",
      " [0.07856029 0.13409261 0.41287467]\n",
      " [0.22997903 0.33223265 0.44510478]\n",
      " [0.12413679 0.3685772  0.42505508]\n",
      " [0.33254656 0.44382365 0.55594896]\n",
      " [0.18126185 0.48807639 0.43027898]\n",
      " [0.27342073 0.54611021 0.47611112]\n",
      " [0.26140908 0.51908076 0.55126653]\n",
      " [0.34196814 0.34932966 0.84627429]\n",
      " [0.25929125 0.3833186  0.45288277]\n",
      " [0.31588651 0.48866199 0.3219611 ]\n",
      " [0.21726255 0.38255416 0.60205494]\n",
      " [0.21143483 0.4498621  0.35167593]\n",
      " [0.18751069 0.30762231 0.60125795]\n",
      " [0.16923413 0.27623042 0.42827684]\n",
      " [0.27527049 0.46911213 0.44479236]\n",
      " [0.24668421 0.25506252 0.57962441]\n",
      " [0.29821735 0.38191386 0.50991026]\n",
      " [0.24871434 0.45205265 0.50706754]\n",
      " [0.30034708 0.38727493 0.50775175]\n",
      " [0.32785365 0.46112995 0.45764966]\n",
      " [0.28862589 0.58044783 0.31803434]\n",
      " [0.18473927 0.23149217 0.42718904]\n",
      " [0.17981637 0.36991059 0.44982973]\n",
      " [0.37476762 0.45386692 0.38269684]\n",
      " [0.12747039 0.31877504 0.4302555 ]\n",
      " [0.39732259 0.43218506 0.44129173]\n",
      " [0.22970669 0.48537588 0.39569292]\n",
      " [0.32620963 0.2360578  0.46447385]\n",
      " [0.16293379 0.3142181  0.4073741 ]\n",
      " [0.15528343 0.38782316 0.34542578]\n",
      " [0.23847645 0.30709662 0.45591932]\n",
      " [0.16649993 0.2382876  0.39698484]\n",
      " [0.11564247 0.45237386 0.26311652]\n",
      " [0.14887307 0.37451975 0.46219137]\n",
      " [0.08328512 0.25662953 0.40934719]\n",
      " [0.213899   0.22205548 0.4958374 ]\n",
      " [0.22431958 0.33816305 0.3652788 ]\n",
      " [0.19308614 0.29559066 0.51345727]\n",
      " [0.16359656 0.28091922 0.40009207]\n",
      " [0.21944877 0.31179935 0.4880156 ]\n",
      " [0.12248339 0.24072407 0.43302069]\n",
      " [0.59725725 0.89289923 0.        ]\n",
      " [0.65789131 0.66445448 0.37344405]\n",
      " [0.6915056  0.58986167 0.29988631]\n",
      " [0.49758648 0.64722968 0.28201204]\n",
      " [0.29303679 0.73530258 0.46115365]\n",
      " [0.56351145 0.73500005 0.53001833]\n",
      " [0.41005381 0.57901576 0.51949884]\n",
      " [0.27203699 0.72971863 0.25733556]\n",
      " [0.48287169 0.80465353 0.35400817]\n",
      " [0.5833925  0.50680268 0.39039041]\n",
      " [0.30345921 0.66459713 0.3372864 ]\n",
      " [0.66481593 0.59708851 0.39826479]\n",
      " [0.33135869 0.60462476 0.65840271]\n",
      " [0.57692835 0.62072315 0.46972897]\n",
      " [0.24064623 0.43918469 0.80167   ]\n",
      " [0.31538912 0.64921855 0.50802042]\n",
      " [0.59209794 0.80762437 0.30425261]\n",
      " [0.46521732 0.76747308 0.21514623]\n",
      " [0.65188307 0.66450755 0.43870237]\n",
      " [0.3758375  0.57954598 0.34264549]\n",
      " [0.46310667 0.61502575 0.64239279]\n",
      " [0.42355864 0.93253075 0.42577493]\n",
      " [0.39515302 0.67191953 0.42522466]\n",
      " [0.5514861  0.79896987 0.59611169]\n",
      " [0.76323909 0.4898742  0.50923526]\n",
      " [0.4182825  0.67503364 0.52323901]\n",
      " [0.42052113 0.75003549 0.43610886]\n",
      " [0.58486042 0.77917294 0.53944115]\n",
      " [0.55831158 0.7978778  0.69396437]\n",
      " [0.61556085 0.72102038 0.55816698]\n",
      " [0.55754486 0.836411   0.54711704]\n",
      " [0.63977058 0.76391219 0.45677472]\n",
      " [0.66306442 0.72803592 0.54021303]\n",
      " [0.70019704 0.68871097 0.45254005]\n",
      " [0.42557552 0.78876796 0.4733227 ]\n",
      " [0.40503513 0.77647194 0.47615126]\n",
      " [0.24501063 0.45137623 0.5413982 ]\n",
      " [0.56136989 0.52641781 0.59350384]\n",
      " [0.39617694 0.82277492 0.35241175]\n",
      " [0.27193004 0.6685511  0.43872766]\n",
      " [0.3568095  0.76847712 0.537212  ]\n",
      " [0.42016881 0.79740659 0.30389608]\n",
      " [0.55860598 0.78700324 0.31074989]\n",
      " [0.51875741 0.63397782 0.56274797]\n",
      " [0.57117373 0.83937599 0.38466642]\n",
      " [0.46102991 0.76007362 0.41421823]\n",
      " [0.68289273 0.7099886  0.55688213]\n",
      " [0.53927254 0.77014685 0.41320851]\n",
      " [0.66895211 0.66085437 0.49048393]\n",
      " [0.49558689 0.78824208 0.41508108]\n",
      " [0.34063524 0.67300302 0.641024  ]\n",
      " [0.36210998 0.66692313 0.47597171]\n",
      " [0.53135726 0.73771732 0.46961736]\n",
      " [0.63333787 0.5806017  0.6628543 ]\n",
      " [0.54970283 0.78370766 0.56852886]\n",
      " [0.55197443 0.7390918  0.59493759]\n",
      " [0.45140314 1.         0.59706426]\n",
      " [0.52866805 0.85827487 0.43123474]\n",
      " [0.51441004 0.737342   0.53120773]\n",
      " [0.75178711 0.64812699 0.26990089]\n",
      " [0.55859196 0.77740153 0.42580327]\n",
      " [0.4269255  0.66639795 0.57508569]\n",
      " [0.36591579 0.44099857 1.        ]\n",
      " [0.62332209 0.56693841 0.76468432]\n",
      " [0.55049256 0.56022374 0.5103644 ]\n",
      " [0.40391598 0.6711077  0.61097502]\n",
      " [0.51205968 0.76190181 0.50547979]\n",
      " [0.49976403 0.64761073 0.53096134]\n",
      " [0.66695132 0.64086586 0.79998334]\n",
      " [0.55273417 0.73894253 0.59222527]\n",
      " [0.6859184  0.63322004 0.54036425]\n",
      " [0.69881517 0.45299663 0.34299821]\n",
      " [0.80699588 0.4261233  0.38883113]\n",
      " [0.86455658 0.44145795 0.44479552]\n",
      " [0.78323    0.42678227 0.41610037]\n",
      " [0.80374986 0.53910673 0.35077552]\n",
      " [0.87519426 0.42954706 0.35094858]\n",
      " [0.96149165 0.45710346 0.48386012]\n",
      " [0.96452051 0.38871767 0.6339232 ]\n",
      " [0.87709696 0.43024434 0.35820327]\n",
      " [0.80371081 0.43741077 0.58669   ]\n",
      " [0.84403743 0.43844737 0.52298363]\n",
      " [0.79398986 0.42647851 0.36382794]\n",
      " [0.86524183 0.41120285 0.55691937]\n",
      " [0.80274134 0.41169431 0.43617935]\n",
      " [0.7900245  0.31964883 0.33637806]\n",
      " [0.83082238 0.40081306 0.37549086]\n",
      " [1.         0.39030594 0.3147027 ]\n",
      " [0.92914692 0.3054598  0.45042698]\n",
      " [0.85100307 0.26454034 0.41409256]\n",
      " [0.86235664 0.2008326  0.41176532]\n",
      " [0.80369822 0.15771519 0.50582617]\n",
      " [0.82823061 0.19993127 0.4303206 ]\n",
      " [0.75179808 0.26950644 0.59899306]\n",
      " [0.84694425 0.18754671 0.36456079]\n",
      " [0.84464524 0.42153026 0.34184473]\n",
      " [0.93216985 0.2337552  0.45212119]\n",
      " [0.8593992  0.21660076 0.38289243]\n",
      " [0.90996421 0.30001168 0.6228877 ]\n",
      " [0.67343034 0.         0.57863905]\n",
      " [0.73019612 0.15045127 0.51701967]\n",
      " [0.88525555 0.3774387  0.45247893]\n",
      " [0.78931006 0.31777709 0.45144082]\n",
      " [0.85221715 0.40200628 0.54258283]\n",
      " [0.82759629 0.38256674 0.37256645]\n",
      " [0.86540248 0.26671351 0.36263798]\n",
      " [0.92334315 0.35824993 0.41465661]\n",
      " [0.81067169 0.12593091 0.50482051]\n",
      " [0.86324436 0.30471288 0.3394899 ]\n",
      " [0.78697963 0.19547467 0.53861625]\n",
      " [0.80776098 0.12642124 0.60448091]\n",
      " [0.89116991 0.51143868 0.37633651]\n",
      " [0.94036801 0.36297721 0.32674038]\n",
      " [0.81523902 0.17998665 0.36916947]\n",
      " [0.90653806 0.17764763 0.42708729]\n",
      " [0.82955497 0.2391458  0.48257745]\n",
      " [0.83905258 0.10328153 0.36696701]\n",
      " [0.80849032 0.1658493  0.40626582]\n",
      " [0.89174728 0.10266327 0.56369337]]\n"
     ]
    }
   ],
   "source": [
    "from sklearn.preprocessing import MinMaxScaler\n",
    "scaler = MinMaxScaler()\n",
    "pca_df_normal = scaler.fit_transform(pca_dff)\n",
    "print(pca_df_normal)"
   ]
  },
  {
   "cell_type": "code",
   "execution_count": 67,
   "id": "eb07950f",
   "metadata": {
    "ExecuteTime": {
     "end_time": "2023-07-27T13:54:47.179678Z",
     "start_time": "2023-07-27T13:54:47.146507Z"
    }
   },
   "outputs": [
    {
     "data": {
      "text/plain": [
       "AgglomerativeClustering(n_clusters=3)"
      ]
     },
     "execution_count": 67,
     "metadata": {},
     "output_type": "execute_result"
    }
   ],
   "source": [
    "from sklearn.cluster import AgglomerativeClustering\n",
    "H_clusters=AgglomerativeClustering(n_clusters=3,affinity='euclidean',linkage='ward')\n",
    "H_clusters"
   ]
  },
  {
   "cell_type": "code",
   "execution_count": 68,
   "id": "d033c112",
   "metadata": {
    "ExecuteTime": {
     "end_time": "2023-07-27T13:55:14.388454Z",
     "start_time": "2023-07-27T13:55:14.353195Z"
    }
   },
   "outputs": [
    {
     "data": {
      "text/plain": [
       "0    70\n",
       "2    60\n",
       "1    48\n",
       "Name: clustersid_H, dtype: int64"
      ]
     },
     "execution_count": 68,
     "metadata": {},
     "output_type": "execute_result"
    }
   ],
   "source": [
    "y=pd.DataFrame(H_clusters.fit_predict(pca_df_normal),columns=['clustersid_H'])\n",
    "y['clustersid_H'].value_counts()"
   ]
  },
  {
   "cell_type": "markdown",
   "id": "c7cc4f83",
   "metadata": {},
   "source": [
    "### K-Means clustering"
   ]
  },
  {
   "cell_type": "code",
   "execution_count": 69,
   "id": "8873d416",
   "metadata": {
    "ExecuteTime": {
     "end_time": "2023-07-27T13:55:29.447905Z",
     "start_time": "2023-07-27T13:55:29.423422Z"
    }
   },
   "outputs": [],
   "source": [
    "from sklearn.cluster import KMeans"
   ]
  },
  {
   "cell_type": "code",
   "execution_count": 70,
   "id": "20185d1a",
   "metadata": {
    "ExecuteTime": {
     "end_time": "2023-07-27T13:56:29.958202Z",
     "start_time": "2023-07-27T13:56:29.193641Z"
    }
   },
   "outputs": [
    {
     "name": "stderr",
     "output_type": "stream",
     "text": [
      "C:\\Users\\lilly\\anaconda3\\lib\\site-packages\\sklearn\\cluster\\_kmeans.py:1036: UserWarning: KMeans is known to have a memory leak on Windows with MKL, when there are less chunks than available threads. You can avoid it by setting the environment variable OMP_NUM_THREADS=1.\n",
      "  warnings.warn(\n"
     ]
    },
    {
     "data": {
      "image/png": "[encoded data removed]",
      "text/plain": [
       "<Figure size 640x480 with 1 Axes>"
      ]
     },
     "metadata": {},
     "output_type": "display_data"
    }
   ],
   "source": [
    "wcss = []\n",
    "for i in range(1, 11):\n",
    "    kmeans = KMeans(n_clusters=i,random_state=0)\n",
    "    kmeans.fit(pca_df_normal)\n",
    "    wcss.append(kmeans.inertia_)\n",
    "    \n",
    "plt.plot(range(1, 11), wcss)\n",
    "plt.title('Elbow Method')\n",
    "plt.xlabel('Number of clusters')\n",
    "plt.ylabel('WCSS')\n",
    "plt.show()"
   ]
  },
  {
   "cell_type": "code",
   "execution_count": 71,
   "id": "f5ae610b",
   "metadata": {
    "ExecuteTime": {
     "end_time": "2023-07-27T13:56:56.826590Z",
     "start_time": "2023-07-27T13:56:56.753495Z"
    }
   },
   "outputs": [
    {
     "data": {
      "text/plain": [
       "KMeans(n_clusters=3, random_state=42)"
      ]
     },
     "execution_count": 71,
     "metadata": {},
     "output_type": "execute_result"
    }
   ],
   "source": [
    "KM_clusters = KMeans(3, random_state=42)\n",
    "KM_clusters.fit(pca_df_normal)"
   ]
  },
  {
   "cell_type": "code",
   "execution_count": 72,
   "id": "41735785",
   "metadata": {
    "ExecuteTime": {
     "end_time": "2023-07-27T13:57:14.669574Z",
     "start_time": "2023-07-27T13:57:14.612061Z"
    }
   },
   "outputs": [
    {
     "data": {
      "text/plain": [
       "0    67\n",
       "2    62\n",
       "1    49\n",
       "Name: clusterid_Kmeans, dtype: int64"
      ]
     },
     "execution_count": 72,
     "metadata": {},
     "output_type": "execute_result"
    }
   ],
   "source": [
    "y=pd.DataFrame(KM_clusters.fit_predict(pca_df_normal),columns=['clusterid_Kmeans'])\n",
    "y['clusterid_Kmeans'].value_counts()"
   ]
  },
  {
   "cell_type": "markdown",
   "id": "f0c3ffd9",
   "metadata": {},
   "source": [
    "### preparing actual vs predicted data"
   ]
  },
  {
   "cell_type": "code",
   "execution_count": 74,
   "id": "d1720de2",
   "metadata": {
    "ExecuteTime": {
     "end_time": "2023-07-27T13:57:38.101764Z",
     "start_time": "2023-07-27T13:57:38.083581Z"
    }
   },
   "outputs": [],
   "source": [
    "wine_class = df['Type']\n",
    "wine_class = pd.Series(wine_class)"
   ]
  },
  {
   "cell_type": "code",
   "execution_count": 75,
   "id": "a3c89e8b",
   "metadata": {
    "ExecuteTime": {
     "end_time": "2023-07-27T13:57:51.918646Z",
     "start_time": "2023-07-27T13:57:51.903615Z"
    }
   },
   "outputs": [],
   "source": [
    "clustersid_HC = H_clusters.labels_\n",
    "clustersid_HC = pd.Series(clustersid_HC)"
   ]
  },
  {
   "cell_type": "code",
   "execution_count": 76,
   "id": "d8b2e9cb",
   "metadata": {
    "ExecuteTime": {
     "end_time": "2023-07-27T13:58:06.878429Z",
     "start_time": "2023-07-27T13:58:06.863474Z"
    }
   },
   "outputs": [],
   "source": [
    "clusterid_Kmeans = KM_clusters.labels_\n",
    "clusterid_Kmeans = pd.Series(clusterid_Kmeans)"
   ]
  },
  {
   "cell_type": "code",
   "execution_count": 77,
   "id": "88dd7db6",
   "metadata": {
    "ExecuteTime": {
     "end_time": "2023-07-27T13:58:25.433274Z",
     "start_time": "2023-07-27T13:58:25.410608Z"
    }
   },
   "outputs": [
    {
     "data": {
      "text/html": [
       "<div>\n",
       "<style scoped>\n",
       "    .dataframe tbody tr th:only-of-type {\n",
       "        vertical-align: middle;\n",
       "    }\n",
       "\n",
       "    .dataframe tbody tr th {\n",
       "        vertical-align: top;\n",
       "    }\n",
       "\n",
       "    .dataframe thead th {\n",
       "        text-align: right;\n",
       "    }\n",
       "</style>\n",
       "<table border=\"1\" class=\"dataframe\">\n",
       "  <thead>\n",
       "    <tr style=\"text-align: right;\">\n",
       "      <th></th>\n",
       "      <th>Type</th>\n",
       "      <th>0</th>\n",
       "      <th>1</th>\n",
       "    </tr>\n",
       "  </thead>\n",
       "  <tbody>\n",
       "    <tr>\n",
       "      <th>0</th>\n",
       "      <td>1</td>\n",
       "      <td>2</td>\n",
       "      <td>2</td>\n",
       "    </tr>\n",
       "    <tr>\n",
       "      <th>1</th>\n",
       "      <td>1</td>\n",
       "      <td>2</td>\n",
       "      <td>2</td>\n",
       "    </tr>\n",
       "    <tr>\n",
       "      <th>2</th>\n",
       "      <td>1</td>\n",
       "      <td>2</td>\n",
       "      <td>2</td>\n",
       "    </tr>\n",
       "    <tr>\n",
       "      <th>3</th>\n",
       "      <td>1</td>\n",
       "      <td>2</td>\n",
       "      <td>2</td>\n",
       "    </tr>\n",
       "    <tr>\n",
       "      <th>4</th>\n",
       "      <td>1</td>\n",
       "      <td>2</td>\n",
       "      <td>2</td>\n",
       "    </tr>\n",
       "    <tr>\n",
       "      <th>...</th>\n",
       "      <td>...</td>\n",
       "      <td>...</td>\n",
       "      <td>...</td>\n",
       "    </tr>\n",
       "    <tr>\n",
       "      <th>173</th>\n",
       "      <td>3</td>\n",
       "      <td>1</td>\n",
       "      <td>1</td>\n",
       "    </tr>\n",
       "    <tr>\n",
       "      <th>174</th>\n",
       "      <td>3</td>\n",
       "      <td>1</td>\n",
       "      <td>1</td>\n",
       "    </tr>\n",
       "    <tr>\n",
       "      <th>175</th>\n",
       "      <td>3</td>\n",
       "      <td>1</td>\n",
       "      <td>1</td>\n",
       "    </tr>\n",
       "    <tr>\n",
       "      <th>176</th>\n",
       "      <td>3</td>\n",
       "      <td>1</td>\n",
       "      <td>1</td>\n",
       "    </tr>\n",
       "    <tr>\n",
       "      <th>177</th>\n",
       "      <td>3</td>\n",
       "      <td>1</td>\n",
       "      <td>1</td>\n",
       "    </tr>\n",
       "  </tbody>\n",
       "</table>\n",
       "<p>178 rows × 3 columns</p>\n",
       "</div>"
      ],
      "text/plain": [
       "     Type  0  1\n",
       "0       1  2  2\n",
       "1       1  2  2\n",
       "2       1  2  2\n",
       "3       1  2  2\n",
       "4       1  2  2\n",
       "..    ... .. ..\n",
       "173     3  1  1\n",
       "174     3  1  1\n",
       "175     3  1  1\n",
       "176     3  1  1\n",
       "177     3  1  1\n",
       "\n",
       "[178 rows x 3 columns]"
      ]
     },
     "execution_count": 77,
     "metadata": {},
     "output_type": "execute_result"
    }
   ],
   "source": [
    "pred_df = pd.concat([wine_class, clustersid_HC, clusterid_Kmeans],axis = 1)\n",
    "pred_df"
   ]
  },
  {
   "cell_type": "code",
   "execution_count": null,
   "id": "789f9a56",
   "metadata": {},
   "outputs": [],
   "source": []
  }
 ],
 "metadata": {
  "kernelspec": {
   "display_name": "Python 3 (ipykernel)",
   "language": "python",
   "name": "python3"
  },
  "language_info": {
   "codemirror_mode": {
    "name": "ipython",
    "version": 3
   },
   "file_extension": ".py",
   "mimetype": "text/x-python",
   "name": "python",
   "nbconvert_exporter": "python",
   "pygments_lexer": "ipython3",
   "version": "3.9.13"
  }
 },
 "nbformat": 4,
 "nbformat_minor": 5
}
