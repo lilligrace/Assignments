{
 "cells": [
  {
   "cell_type": "code",
   "execution_count": 1,
   "id": "b1cd44fe",
   "metadata": {
    "ExecuteTime": {
     "end_time": "2023-09-01T09:02:49.876870Z",
     "start_time": "2023-09-01T09:02:48.014323Z"
    },
    "id": "b1cd44fe"
   },
   "outputs": [],
   "source": [
    "import pandas as pd\n",
    "import numpy as np\n",
    "import matplotlib.pyplot as plt\n",
    "\n",
    "from sklearn.preprocessing import StandardScaler\n",
    "from sklearn import svm\n",
    "from sklearn.svm import SVC\n",
    "from sklearn.model_selection import GridSearchCV\n",
    "from sklearn.metrics import classification_report\n",
    "from sklearn.metrics import accuracy_score,confusion_matrix\n",
    "from sklearn.model_selection import train_test_split,cross_val_score\n"
   ]
  },
  {
   "cell_type": "code",
   "execution_count": 3,
   "id": "7c1e8f34",
   "metadata": {
    "ExecuteTime": {
     "end_time": "2023-09-01T09:03:20.498793Z",
     "start_time": "2023-09-01T09:03:20.410937Z"
    },
    "colab": {
     "base_uri": "https://localhost:8080/",
     "height": 357
    },
    "id": "7c1e8f34",
    "outputId": "ba584c41-6d43-4659-bc4a-5db0aeb33ec9"
   },
   "outputs": [
    {
     "data": {
      "text/html": [
       "<div>\n",
       "<style scoped>\n",
       "    .dataframe tbody tr th:only-of-type {\n",
       "        vertical-align: middle;\n",
       "    }\n",
       "\n",
       "    .dataframe tbody tr th {\n",
       "        vertical-align: top;\n",
       "    }\n",
       "\n",
       "    .dataframe thead th {\n",
       "        text-align: right;\n",
       "    }\n",
       "</style>\n",
       "<table border=\"1\" class=\"dataframe\">\n",
       "  <thead>\n",
       "    <tr style=\"text-align: right;\">\n",
       "      <th></th>\n",
       "      <th>age</th>\n",
       "      <th>workclass</th>\n",
       "      <th>education</th>\n",
       "      <th>educationno</th>\n",
       "      <th>maritalstatus</th>\n",
       "      <th>occupation</th>\n",
       "      <th>relationship</th>\n",
       "      <th>race</th>\n",
       "      <th>sex</th>\n",
       "      <th>capitalgain</th>\n",
       "      <th>capitalloss</th>\n",
       "      <th>hoursperweek</th>\n",
       "      <th>native</th>\n",
       "      <th>Salary</th>\n",
       "    </tr>\n",
       "  </thead>\n",
       "  <tbody>\n",
       "    <tr>\n",
       "      <th>0</th>\n",
       "      <td>39</td>\n",
       "      <td>State-gov</td>\n",
       "      <td>Bachelors</td>\n",
       "      <td>13</td>\n",
       "      <td>Never-married</td>\n",
       "      <td>Adm-clerical</td>\n",
       "      <td>Not-in-family</td>\n",
       "      <td>White</td>\n",
       "      <td>Male</td>\n",
       "      <td>2174</td>\n",
       "      <td>0</td>\n",
       "      <td>40</td>\n",
       "      <td>United-States</td>\n",
       "      <td>&lt;=50K</td>\n",
       "    </tr>\n",
       "    <tr>\n",
       "      <th>1</th>\n",
       "      <td>50</td>\n",
       "      <td>Self-emp-not-inc</td>\n",
       "      <td>Bachelors</td>\n",
       "      <td>13</td>\n",
       "      <td>Married-civ-spouse</td>\n",
       "      <td>Exec-managerial</td>\n",
       "      <td>Husband</td>\n",
       "      <td>White</td>\n",
       "      <td>Male</td>\n",
       "      <td>0</td>\n",
       "      <td>0</td>\n",
       "      <td>13</td>\n",
       "      <td>United-States</td>\n",
       "      <td>&lt;=50K</td>\n",
       "    </tr>\n",
       "    <tr>\n",
       "      <th>2</th>\n",
       "      <td>38</td>\n",
       "      <td>Private</td>\n",
       "      <td>HS-grad</td>\n",
       "      <td>9</td>\n",
       "      <td>Divorced</td>\n",
       "      <td>Handlers-cleaners</td>\n",
       "      <td>Not-in-family</td>\n",
       "      <td>White</td>\n",
       "      <td>Male</td>\n",
       "      <td>0</td>\n",
       "      <td>0</td>\n",
       "      <td>40</td>\n",
       "      <td>United-States</td>\n",
       "      <td>&lt;=50K</td>\n",
       "    </tr>\n",
       "    <tr>\n",
       "      <th>3</th>\n",
       "      <td>53</td>\n",
       "      <td>Private</td>\n",
       "      <td>11th</td>\n",
       "      <td>7</td>\n",
       "      <td>Married-civ-spouse</td>\n",
       "      <td>Handlers-cleaners</td>\n",
       "      <td>Husband</td>\n",
       "      <td>Black</td>\n",
       "      <td>Male</td>\n",
       "      <td>0</td>\n",
       "      <td>0</td>\n",
       "      <td>40</td>\n",
       "      <td>United-States</td>\n",
       "      <td>&lt;=50K</td>\n",
       "    </tr>\n",
       "    <tr>\n",
       "      <th>4</th>\n",
       "      <td>28</td>\n",
       "      <td>Private</td>\n",
       "      <td>Bachelors</td>\n",
       "      <td>13</td>\n",
       "      <td>Married-civ-spouse</td>\n",
       "      <td>Prof-specialty</td>\n",
       "      <td>Wife</td>\n",
       "      <td>Black</td>\n",
       "      <td>Female</td>\n",
       "      <td>0</td>\n",
       "      <td>0</td>\n",
       "      <td>40</td>\n",
       "      <td>Cuba</td>\n",
       "      <td>&lt;=50K</td>\n",
       "    </tr>\n",
       "  </tbody>\n",
       "</table>\n",
       "</div>"
      ],
      "text/plain": [
       "   age          workclass   education  educationno        maritalstatus  \\\n",
       "0   39          State-gov   Bachelors           13        Never-married   \n",
       "1   50   Self-emp-not-inc   Bachelors           13   Married-civ-spouse   \n",
       "2   38            Private     HS-grad            9             Divorced   \n",
       "3   53            Private        11th            7   Married-civ-spouse   \n",
       "4   28            Private   Bachelors           13   Married-civ-spouse   \n",
       "\n",
       "           occupation    relationship    race      sex  capitalgain  \\\n",
       "0        Adm-clerical   Not-in-family   White     Male         2174   \n",
       "1     Exec-managerial         Husband   White     Male            0   \n",
       "2   Handlers-cleaners   Not-in-family   White     Male            0   \n",
       "3   Handlers-cleaners         Husband   Black     Male            0   \n",
       "4      Prof-specialty            Wife   Black   Female            0   \n",
       "\n",
       "   capitalloss  hoursperweek          native  Salary  \n",
       "0            0            40   United-States   <=50K  \n",
       "1            0            13   United-States   <=50K  \n",
       "2            0            40   United-States   <=50K  \n",
       "3            0            40   United-States   <=50K  \n",
       "4            0            40            Cuba   <=50K  "
      ]
     },
     "execution_count": 3,
     "metadata": {},
     "output_type": "execute_result"
    }
   ],
   "source": [
    "# IN the question we ahve splitted the data into training and testing\n",
    "data_train=pd.read_csv(\"SalaryData_Train.csv\")\n",
    "\n",
    "data_train.head()\n"
   ]
  },
  {
   "cell_type": "code",
   "execution_count": 4,
   "id": "646e6c30",
   "metadata": {
    "ExecuteTime": {
     "end_time": "2023-09-01T09:04:45.191625Z",
     "start_time": "2023-09-01T09:04:45.127273Z"
    },
    "colab": {
     "base_uri": "https://localhost:8080/",
     "height": 678
    },
    "id": "646e6c30",
    "outputId": "4f85423c-a446-4860-cc53-0ad183a5fc2e"
   },
   "outputs": [
    {
     "data": {
      "text/html": [
       "<div>\n",
       "<style scoped>\n",
       "    .dataframe tbody tr th:only-of-type {\n",
       "        vertical-align: middle;\n",
       "    }\n",
       "\n",
       "    .dataframe tbody tr th {\n",
       "        vertical-align: top;\n",
       "    }\n",
       "\n",
       "    .dataframe thead th {\n",
       "        text-align: right;\n",
       "    }\n",
       "</style>\n",
       "<table border=\"1\" class=\"dataframe\">\n",
       "  <thead>\n",
       "    <tr style=\"text-align: right;\">\n",
       "      <th></th>\n",
       "      <th>age</th>\n",
       "      <th>workclass</th>\n",
       "      <th>education</th>\n",
       "      <th>educationno</th>\n",
       "      <th>maritalstatus</th>\n",
       "      <th>occupation</th>\n",
       "      <th>relationship</th>\n",
       "      <th>race</th>\n",
       "      <th>sex</th>\n",
       "      <th>capitalgain</th>\n",
       "      <th>capitalloss</th>\n",
       "      <th>hoursperweek</th>\n",
       "      <th>native</th>\n",
       "      <th>Salary</th>\n",
       "    </tr>\n",
       "  </thead>\n",
       "  <tbody>\n",
       "    <tr>\n",
       "      <th>0</th>\n",
       "      <td>25</td>\n",
       "      <td>Private</td>\n",
       "      <td>11th</td>\n",
       "      <td>7</td>\n",
       "      <td>Never-married</td>\n",
       "      <td>Machine-op-inspct</td>\n",
       "      <td>Own-child</td>\n",
       "      <td>Black</td>\n",
       "      <td>Male</td>\n",
       "      <td>0</td>\n",
       "      <td>0</td>\n",
       "      <td>40</td>\n",
       "      <td>United-States</td>\n",
       "      <td>&lt;=50K</td>\n",
       "    </tr>\n",
       "    <tr>\n",
       "      <th>1</th>\n",
       "      <td>38</td>\n",
       "      <td>Private</td>\n",
       "      <td>HS-grad</td>\n",
       "      <td>9</td>\n",
       "      <td>Married-civ-spouse</td>\n",
       "      <td>Farming-fishing</td>\n",
       "      <td>Husband</td>\n",
       "      <td>White</td>\n",
       "      <td>Male</td>\n",
       "      <td>0</td>\n",
       "      <td>0</td>\n",
       "      <td>50</td>\n",
       "      <td>United-States</td>\n",
       "      <td>&lt;=50K</td>\n",
       "    </tr>\n",
       "    <tr>\n",
       "      <th>2</th>\n",
       "      <td>28</td>\n",
       "      <td>Local-gov</td>\n",
       "      <td>Assoc-acdm</td>\n",
       "      <td>12</td>\n",
       "      <td>Married-civ-spouse</td>\n",
       "      <td>Protective-serv</td>\n",
       "      <td>Husband</td>\n",
       "      <td>White</td>\n",
       "      <td>Male</td>\n",
       "      <td>0</td>\n",
       "      <td>0</td>\n",
       "      <td>40</td>\n",
       "      <td>United-States</td>\n",
       "      <td>&gt;50K</td>\n",
       "    </tr>\n",
       "    <tr>\n",
       "      <th>3</th>\n",
       "      <td>44</td>\n",
       "      <td>Private</td>\n",
       "      <td>Some-college</td>\n",
       "      <td>10</td>\n",
       "      <td>Married-civ-spouse</td>\n",
       "      <td>Machine-op-inspct</td>\n",
       "      <td>Husband</td>\n",
       "      <td>Black</td>\n",
       "      <td>Male</td>\n",
       "      <td>7688</td>\n",
       "      <td>0</td>\n",
       "      <td>40</td>\n",
       "      <td>United-States</td>\n",
       "      <td>&gt;50K</td>\n",
       "    </tr>\n",
       "    <tr>\n",
       "      <th>4</th>\n",
       "      <td>34</td>\n",
       "      <td>Private</td>\n",
       "      <td>10th</td>\n",
       "      <td>6</td>\n",
       "      <td>Never-married</td>\n",
       "      <td>Other-service</td>\n",
       "      <td>Not-in-family</td>\n",
       "      <td>White</td>\n",
       "      <td>Male</td>\n",
       "      <td>0</td>\n",
       "      <td>0</td>\n",
       "      <td>30</td>\n",
       "      <td>United-States</td>\n",
       "      <td>&lt;=50K</td>\n",
       "    </tr>\n",
       "    <tr>\n",
       "      <th>...</th>\n",
       "      <td>...</td>\n",
       "      <td>...</td>\n",
       "      <td>...</td>\n",
       "      <td>...</td>\n",
       "      <td>...</td>\n",
       "      <td>...</td>\n",
       "      <td>...</td>\n",
       "      <td>...</td>\n",
       "      <td>...</td>\n",
       "      <td>...</td>\n",
       "      <td>...</td>\n",
       "      <td>...</td>\n",
       "      <td>...</td>\n",
       "      <td>...</td>\n",
       "    </tr>\n",
       "    <tr>\n",
       "      <th>15055</th>\n",
       "      <td>33</td>\n",
       "      <td>Private</td>\n",
       "      <td>Bachelors</td>\n",
       "      <td>13</td>\n",
       "      <td>Never-married</td>\n",
       "      <td>Prof-specialty</td>\n",
       "      <td>Own-child</td>\n",
       "      <td>White</td>\n",
       "      <td>Male</td>\n",
       "      <td>0</td>\n",
       "      <td>0</td>\n",
       "      <td>40</td>\n",
       "      <td>United-States</td>\n",
       "      <td>&lt;=50K</td>\n",
       "    </tr>\n",
       "    <tr>\n",
       "      <th>15056</th>\n",
       "      <td>39</td>\n",
       "      <td>Private</td>\n",
       "      <td>Bachelors</td>\n",
       "      <td>13</td>\n",
       "      <td>Divorced</td>\n",
       "      <td>Prof-specialty</td>\n",
       "      <td>Not-in-family</td>\n",
       "      <td>White</td>\n",
       "      <td>Female</td>\n",
       "      <td>0</td>\n",
       "      <td>0</td>\n",
       "      <td>36</td>\n",
       "      <td>United-States</td>\n",
       "      <td>&lt;=50K</td>\n",
       "    </tr>\n",
       "    <tr>\n",
       "      <th>15057</th>\n",
       "      <td>38</td>\n",
       "      <td>Private</td>\n",
       "      <td>Bachelors</td>\n",
       "      <td>13</td>\n",
       "      <td>Married-civ-spouse</td>\n",
       "      <td>Prof-specialty</td>\n",
       "      <td>Husband</td>\n",
       "      <td>White</td>\n",
       "      <td>Male</td>\n",
       "      <td>0</td>\n",
       "      <td>0</td>\n",
       "      <td>50</td>\n",
       "      <td>United-States</td>\n",
       "      <td>&lt;=50K</td>\n",
       "    </tr>\n",
       "    <tr>\n",
       "      <th>15058</th>\n",
       "      <td>44</td>\n",
       "      <td>Private</td>\n",
       "      <td>Bachelors</td>\n",
       "      <td>13</td>\n",
       "      <td>Divorced</td>\n",
       "      <td>Adm-clerical</td>\n",
       "      <td>Own-child</td>\n",
       "      <td>Asian-Pac-Islander</td>\n",
       "      <td>Male</td>\n",
       "      <td>5455</td>\n",
       "      <td>0</td>\n",
       "      <td>40</td>\n",
       "      <td>United-States</td>\n",
       "      <td>&lt;=50K</td>\n",
       "    </tr>\n",
       "    <tr>\n",
       "      <th>15059</th>\n",
       "      <td>35</td>\n",
       "      <td>Self-emp-inc</td>\n",
       "      <td>Bachelors</td>\n",
       "      <td>13</td>\n",
       "      <td>Married-civ-spouse</td>\n",
       "      <td>Exec-managerial</td>\n",
       "      <td>Husband</td>\n",
       "      <td>White</td>\n",
       "      <td>Male</td>\n",
       "      <td>0</td>\n",
       "      <td>0</td>\n",
       "      <td>60</td>\n",
       "      <td>United-States</td>\n",
       "      <td>&gt;50K</td>\n",
       "    </tr>\n",
       "  </tbody>\n",
       "</table>\n",
       "<p>15060 rows × 14 columns</p>\n",
       "</div>"
      ],
      "text/plain": [
       "       age      workclass      education  educationno        maritalstatus  \\\n",
       "0       25        Private           11th            7        Never-married   \n",
       "1       38        Private        HS-grad            9   Married-civ-spouse   \n",
       "2       28      Local-gov     Assoc-acdm           12   Married-civ-spouse   \n",
       "3       44        Private   Some-college           10   Married-civ-spouse   \n",
       "4       34        Private           10th            6        Never-married   \n",
       "...    ...            ...            ...          ...                  ...   \n",
       "15055   33        Private      Bachelors           13        Never-married   \n",
       "15056   39        Private      Bachelors           13             Divorced   \n",
       "15057   38        Private      Bachelors           13   Married-civ-spouse   \n",
       "15058   44        Private      Bachelors           13             Divorced   \n",
       "15059   35   Self-emp-inc      Bachelors           13   Married-civ-spouse   \n",
       "\n",
       "               occupation    relationship                 race      sex  \\\n",
       "0       Machine-op-inspct       Own-child                Black     Male   \n",
       "1         Farming-fishing         Husband                White     Male   \n",
       "2         Protective-serv         Husband                White     Male   \n",
       "3       Machine-op-inspct         Husband                Black     Male   \n",
       "4           Other-service   Not-in-family                White     Male   \n",
       "...                   ...             ...                  ...      ...   \n",
       "15055      Prof-specialty       Own-child                White     Male   \n",
       "15056      Prof-specialty   Not-in-family                White   Female   \n",
       "15057      Prof-specialty         Husband                White     Male   \n",
       "15058        Adm-clerical       Own-child   Asian-Pac-Islander     Male   \n",
       "15059     Exec-managerial         Husband                White     Male   \n",
       "\n",
       "       capitalgain  capitalloss  hoursperweek          native  Salary  \n",
       "0                0            0            40   United-States   <=50K  \n",
       "1                0            0            50   United-States   <=50K  \n",
       "2                0            0            40   United-States    >50K  \n",
       "3             7688            0            40   United-States    >50K  \n",
       "4                0            0            30   United-States   <=50K  \n",
       "...            ...          ...           ...             ...     ...  \n",
       "15055            0            0            40   United-States   <=50K  \n",
       "15056            0            0            36   United-States   <=50K  \n",
       "15057            0            0            50   United-States   <=50K  \n",
       "15058         5455            0            40   United-States   <=50K  \n",
       "15059            0            0            60   United-States    >50K  \n",
       "\n",
       "[15060 rows x 14 columns]"
      ]
     },
     "execution_count": 4,
     "metadata": {},
     "output_type": "execute_result"
    }
   ],
   "source": [
    "data_test=pd.read_csv(\"SalaryData_Test.csv\")\n",
    "data_test"
   ]
  },
  {
   "cell_type": "code",
   "execution_count": 5,
   "id": "bb83c07c",
   "metadata": {
    "ExecuteTime": {
     "end_time": "2023-09-01T09:04:58.268408Z",
     "start_time": "2023-09-01T09:04:58.196158Z"
    },
    "colab": {
     "base_uri": "https://localhost:8080/"
    },
    "id": "bb83c07c",
    "outputId": "b8142a94-bc21-40f4-83ac-b20456f32533"
   },
   "outputs": [
    {
     "data": {
      "text/plain": [
       "age              0\n",
       "workclass        0\n",
       "education        0\n",
       "educationno      0\n",
       "maritalstatus    0\n",
       "occupation       0\n",
       "relationship     0\n",
       "race             0\n",
       "sex              0\n",
       "capitalgain      0\n",
       "capitalloss      0\n",
       "hoursperweek     0\n",
       "native           0\n",
       "Salary           0\n",
       "dtype: int64"
      ]
     },
     "execution_count": 5,
     "metadata": {},
     "output_type": "execute_result"
    }
   ],
   "source": [
    "data_train.isnull().sum()"
   ]
  },
  {
   "cell_type": "code",
   "execution_count": 6,
   "id": "fa026eb2",
   "metadata": {
    "ExecuteTime": {
     "end_time": "2023-09-01T09:04:59.095501Z",
     "start_time": "2023-09-01T09:04:59.030793Z"
    },
    "colab": {
     "base_uri": "https://localhost:8080/"
    },
    "id": "fa026eb2",
    "outputId": "1feb4df1-eb2f-492f-f2ef-b89531978e41"
   },
   "outputs": [
    {
     "name": "stdout",
     "output_type": "stream",
     "text": [
      "<class 'pandas.core.frame.DataFrame'>\n",
      "RangeIndex: 30161 entries, 0 to 30160\n",
      "Data columns (total 14 columns):\n",
      " #   Column         Non-Null Count  Dtype \n",
      "---  ------         --------------  ----- \n",
      " 0   age            30161 non-null  int64 \n",
      " 1   workclass      30161 non-null  object\n",
      " 2   education      30161 non-null  object\n",
      " 3   educationno    30161 non-null  int64 \n",
      " 4   maritalstatus  30161 non-null  object\n",
      " 5   occupation     30161 non-null  object\n",
      " 6   relationship   30161 non-null  object\n",
      " 7   race           30161 non-null  object\n",
      " 8   sex            30161 non-null  object\n",
      " 9   capitalgain    30161 non-null  int64 \n",
      " 10  capitalloss    30161 non-null  int64 \n",
      " 11  hoursperweek   30161 non-null  int64 \n",
      " 12  native         30161 non-null  object\n",
      " 13  Salary         30161 non-null  object\n",
      "dtypes: int64(5), object(9)\n",
      "memory usage: 3.2+ MB\n"
     ]
    }
   ],
   "source": [
    "data_train.info()"
   ]
  },
  {
   "cell_type": "code",
   "execution_count": 7,
   "id": "38f37bbe",
   "metadata": {
    "ExecuteTime": {
     "end_time": "2023-09-01T09:05:00.529740Z",
     "start_time": "2023-09-01T09:05:00.327855Z"
    },
    "colab": {
     "base_uri": "https://localhost:8080/",
     "height": 514
    },
    "id": "38f37bbe",
    "outputId": "896bef02-36d9-4473-92dc-0cfcd2e6aa9b"
   },
   "outputs": [
    {
     "data": {
      "text/plain": [
       "<AxesSubplot:>"
      ]
     },
     "execution_count": 7,
     "metadata": {},
     "output_type": "execute_result"
    },
    {
     "data": {
      "image/png": "[encoded data removed]",
      "text/plain": [
       "<Figure size 1500x500 with 1 Axes>"
      ]
     },
     "metadata": {},
     "output_type": "display_data"
    }
   ],
   "source": [
    "plt.figure(figsize=(15,5))\n",
    "data_train.workclass.value_counts().plot.bar()"
   ]
  },
  {
   "cell_type": "code",
   "execution_count": 8,
   "id": "7947ead1",
   "metadata": {
    "ExecuteTime": {
     "end_time": "2023-09-01T09:05:01.697479Z",
     "start_time": "2023-09-01T09:05:01.543685Z"
    },
    "colab": {
     "base_uri": "https://localhost:8080/",
     "height": 496
    },
    "id": "7947ead1",
    "outputId": "48537eba-163b-4844-b0cb-a7009baf9521"
   },
   "outputs": [
    {
     "data": {
      "text/plain": [
       "<AxesSubplot:>"
      ]
     },
     "execution_count": 8,
     "metadata": {},
     "output_type": "execute_result"
    },
    {
     "data": {
      "image/png": "[encoded data removed]",
      "text/plain": [
       "<Figure size 1500x500 with 1 Axes>"
      ]
     },
     "metadata": {},
     "output_type": "display_data"
    }
   ],
   "source": [
    "plt.figure(figsize=(15,5))\n",
    "data_train.education.value_counts().plot.bar()"
   ]
  },
  {
   "cell_type": "code",
   "execution_count": 9,
   "id": "18e24311",
   "metadata": {
    "ExecuteTime": {
     "end_time": "2023-09-01T09:05:02.907295Z",
     "start_time": "2023-09-01T09:05:02.720827Z"
    },
    "colab": {
     "base_uri": "https://localhost:8080/",
     "height": 556
    },
    "id": "18e24311",
    "outputId": "8e513f8a-37ca-4c42-9496-48d118e5baef"
   },
   "outputs": [
    {
     "data": {
      "text/plain": [
       "<AxesSubplot:>"
      ]
     },
     "execution_count": 9,
     "metadata": {},
     "output_type": "execute_result"
    },
    {
     "data": {
      "image/png": "[encoded data removed]",
      "text/plain": [
       "<Figure size 1500x500 with 1 Axes>"
      ]
     },
     "metadata": {},
     "output_type": "display_data"
    }
   ],
   "source": [
    "plt.figure(figsize=(15,5))\n",
    "data_train.maritalstatus.value_counts().plot.bar(color='red')"
   ]
  },
  {
   "cell_type": "code",
   "execution_count": 10,
   "id": "d62959fa",
   "metadata": {
    "ExecuteTime": {
     "end_time": "2023-09-01T09:05:04.130780Z",
     "start_time": "2023-09-01T09:05:03.993605Z"
    },
    "colab": {
     "base_uri": "https://localhost:8080/",
     "height": 531
    },
    "id": "d62959fa",
    "outputId": "87316427-c856-4e85-bfec-4d75b258d264"
   },
   "outputs": [
    {
     "data": {
      "text/plain": [
       "<AxesSubplot:>"
      ]
     },
     "execution_count": 10,
     "metadata": {},
     "output_type": "execute_result"
    },
    {
     "data": {
      "image/png": "[encoded data removed]",
      "text/plain": [
       "<Figure size 1500x500 with 1 Axes>"
      ]
     },
     "metadata": {},
     "output_type": "display_data"
    }
   ],
   "source": [
    "plt.figure(figsize=(15,5))\n",
    "data_train.occupation.value_counts().plot.bar()"
   ]
  },
  {
   "cell_type": "code",
   "execution_count": 11,
   "id": "00297a70",
   "metadata": {
    "ExecuteTime": {
     "end_time": "2023-09-01T09:05:05.017580Z",
     "start_time": "2023-09-01T09:05:04.919269Z"
    },
    "colab": {
     "base_uri": "https://localhost:8080/",
     "height": 499
    },
    "id": "00297a70",
    "outputId": "c3f9408a-8891-4207-e516-e42eaa95fe6f"
   },
   "outputs": [
    {
     "data": {
      "text/plain": [
       "<AxesSubplot:>"
      ]
     },
     "execution_count": 11,
     "metadata": {},
     "output_type": "execute_result"
    },
    {
     "data": {
      "image/png": "[encoded data removed]",
      "text/plain": [
       "<Figure size 1500x500 with 1 Axes>"
      ]
     },
     "metadata": {},
     "output_type": "display_data"
    }
   ],
   "source": [
    "plt.figure(figsize=(15,5))\n",
    "data_train.relationship.value_counts().plot.bar(color='red')"
   ]
  },
  {
   "cell_type": "code",
   "execution_count": 12,
   "id": "e80a18b5",
   "metadata": {
    "ExecuteTime": {
     "end_time": "2023-09-01T09:05:05.938064Z",
     "start_time": "2023-09-01T09:05:05.832864Z"
    },
    "colab": {
     "base_uri": "https://localhost:8080/",
     "height": 537
    },
    "id": "e80a18b5",
    "outputId": "323e2cc0-b0d3-4121-dfa4-053b000ef35a"
   },
   "outputs": [
    {
     "data": {
      "text/plain": [
       "<AxesSubplot:>"
      ]
     },
     "execution_count": 12,
     "metadata": {},
     "output_type": "execute_result"
    },
    {
     "data": {
      "image/png": "[encoded data removed]",
      "text/plain": [
       "<Figure size 1500x500 with 1 Axes>"
      ]
     },
     "metadata": {},
     "output_type": "display_data"
    }
   ],
   "source": [
    "plt.figure(figsize=(15,5))\n",
    "data_train.race.value_counts().plot.bar()"
   ]
  },
  {
   "cell_type": "code",
   "execution_count": 13,
   "id": "ad003180",
   "metadata": {
    "ExecuteTime": {
     "end_time": "2023-09-01T09:05:06.629856Z",
     "start_time": "2023-09-01T09:05:06.515881Z"
    },
    "colab": {
     "base_uri": "https://localhost:8080/",
     "height": 458
    },
    "id": "ad003180",
    "outputId": "c785b196-153f-4b47-8be8-642670a57dbf"
   },
   "outputs": [
    {
     "data": {
      "text/plain": [
       "<AxesSubplot:>"
      ]
     },
     "execution_count": 13,
     "metadata": {},
     "output_type": "execute_result"
    },
    {
     "data": {
      "image/png": "[encoded data removed]",
      "text/plain": [
       "<Figure size 1500x500 with 1 Axes>"
      ]
     },
     "metadata": {},
     "output_type": "display_data"
    }
   ],
   "source": [
    "plt.figure(figsize=(15,5))\n",
    "data_train.sex.value_counts().plot.bar()"
   ]
  },
  {
   "cell_type": "code",
   "execution_count": 14,
   "id": "bd1ab265",
   "metadata": {
    "ExecuteTime": {
     "end_time": "2023-09-01T09:05:07.312858Z",
     "start_time": "2023-09-01T09:05:07.223720Z"
    },
    "colab": {
     "base_uri": "https://localhost:8080/",
     "height": 457
    },
    "id": "bd1ab265",
    "outputId": "1e0d8bb8-c114-421b-abf5-c102a9ce47cb"
   },
   "outputs": [
    {
     "data": {
      "text/plain": [
       "<AxesSubplot:>"
      ]
     },
     "execution_count": 14,
     "metadata": {},
     "output_type": "execute_result"
    },
    {
     "data": {
      "image/png": "[encoded data removed]",
      "text/plain": [
       "<Figure size 1500x500 with 1 Axes>"
      ]
     },
     "metadata": {},
     "output_type": "display_data"
    }
   ],
   "source": [
    "plt.figure(figsize=(15,5))\n",
    "data_train.Salary.value_counts().plot.bar(color='red')"
   ]
  },
  {
   "cell_type": "code",
   "execution_count": 15,
   "id": "67b1cd05",
   "metadata": {
    "ExecuteTime": {
     "end_time": "2023-09-01T09:05:07.957337Z",
     "start_time": "2023-09-01T09:05:07.891015Z"
    },
    "colab": {
     "base_uri": "https://localhost:8080/",
     "height": 522
    },
    "id": "67b1cd05",
    "outputId": "9dfd5233-6c65-4904-fbe9-fc71a3e1211f"
   },
   "outputs": [
    {
     "data": {
      "text/html": [
       "<div>\n",
       "<style scoped>\n",
       "    .dataframe tbody tr th:only-of-type {\n",
       "        vertical-align: middle;\n",
       "    }\n",
       "\n",
       "    .dataframe tbody tr th {\n",
       "        vertical-align: top;\n",
       "    }\n",
       "\n",
       "    .dataframe thead th {\n",
       "        text-align: right;\n",
       "    }\n",
       "</style>\n",
       "<table border=\"1\" class=\"dataframe\">\n",
       "  <thead>\n",
       "    <tr style=\"text-align: right;\">\n",
       "      <th></th>\n",
       "      <th>age</th>\n",
       "      <th>educationno</th>\n",
       "      <th>capitalgain</th>\n",
       "      <th>capitalloss</th>\n",
       "      <th>hoursperweek</th>\n",
       "      <th>workclass_ Federal-gov</th>\n",
       "      <th>workclass_ Local-gov</th>\n",
       "      <th>workclass_ Private</th>\n",
       "      <th>workclass_ Self-emp-inc</th>\n",
       "      <th>workclass_ Self-emp-not-inc</th>\n",
       "      <th>...</th>\n",
       "      <th>native_ Portugal</th>\n",
       "      <th>native_ Puerto-Rico</th>\n",
       "      <th>native_ Scotland</th>\n",
       "      <th>native_ South</th>\n",
       "      <th>native_ Taiwan</th>\n",
       "      <th>native_ Thailand</th>\n",
       "      <th>native_ Trinadad&amp;Tobago</th>\n",
       "      <th>native_ United-States</th>\n",
       "      <th>native_ Vietnam</th>\n",
       "      <th>native_ Yugoslavia</th>\n",
       "    </tr>\n",
       "  </thead>\n",
       "  <tbody>\n",
       "    <tr>\n",
       "      <th>0</th>\n",
       "      <td>39</td>\n",
       "      <td>13</td>\n",
       "      <td>2174</td>\n",
       "      <td>0</td>\n",
       "      <td>40</td>\n",
       "      <td>0</td>\n",
       "      <td>0</td>\n",
       "      <td>0</td>\n",
       "      <td>0</td>\n",
       "      <td>0</td>\n",
       "      <td>...</td>\n",
       "      <td>0</td>\n",
       "      <td>0</td>\n",
       "      <td>0</td>\n",
       "      <td>0</td>\n",
       "      <td>0</td>\n",
       "      <td>0</td>\n",
       "      <td>0</td>\n",
       "      <td>1</td>\n",
       "      <td>0</td>\n",
       "      <td>0</td>\n",
       "    </tr>\n",
       "    <tr>\n",
       "      <th>1</th>\n",
       "      <td>50</td>\n",
       "      <td>13</td>\n",
       "      <td>0</td>\n",
       "      <td>0</td>\n",
       "      <td>13</td>\n",
       "      <td>0</td>\n",
       "      <td>0</td>\n",
       "      <td>0</td>\n",
       "      <td>0</td>\n",
       "      <td>1</td>\n",
       "      <td>...</td>\n",
       "      <td>0</td>\n",
       "      <td>0</td>\n",
       "      <td>0</td>\n",
       "      <td>0</td>\n",
       "      <td>0</td>\n",
       "      <td>0</td>\n",
       "      <td>0</td>\n",
       "      <td>1</td>\n",
       "      <td>0</td>\n",
       "      <td>0</td>\n",
       "    </tr>\n",
       "    <tr>\n",
       "      <th>2</th>\n",
       "      <td>38</td>\n",
       "      <td>9</td>\n",
       "      <td>0</td>\n",
       "      <td>0</td>\n",
       "      <td>40</td>\n",
       "      <td>0</td>\n",
       "      <td>0</td>\n",
       "      <td>1</td>\n",
       "      <td>0</td>\n",
       "      <td>0</td>\n",
       "      <td>...</td>\n",
       "      <td>0</td>\n",
       "      <td>0</td>\n",
       "      <td>0</td>\n",
       "      <td>0</td>\n",
       "      <td>0</td>\n",
       "      <td>0</td>\n",
       "      <td>0</td>\n",
       "      <td>1</td>\n",
       "      <td>0</td>\n",
       "      <td>0</td>\n",
       "    </tr>\n",
       "    <tr>\n",
       "      <th>3</th>\n",
       "      <td>53</td>\n",
       "      <td>7</td>\n",
       "      <td>0</td>\n",
       "      <td>0</td>\n",
       "      <td>40</td>\n",
       "      <td>0</td>\n",
       "      <td>0</td>\n",
       "      <td>1</td>\n",
       "      <td>0</td>\n",
       "      <td>0</td>\n",
       "      <td>...</td>\n",
       "      <td>0</td>\n",
       "      <td>0</td>\n",
       "      <td>0</td>\n",
       "      <td>0</td>\n",
       "      <td>0</td>\n",
       "      <td>0</td>\n",
       "      <td>0</td>\n",
       "      <td>1</td>\n",
       "      <td>0</td>\n",
       "      <td>0</td>\n",
       "    </tr>\n",
       "    <tr>\n",
       "      <th>4</th>\n",
       "      <td>28</td>\n",
       "      <td>13</td>\n",
       "      <td>0</td>\n",
       "      <td>0</td>\n",
       "      <td>40</td>\n",
       "      <td>0</td>\n",
       "      <td>0</td>\n",
       "      <td>1</td>\n",
       "      <td>0</td>\n",
       "      <td>0</td>\n",
       "      <td>...</td>\n",
       "      <td>0</td>\n",
       "      <td>0</td>\n",
       "      <td>0</td>\n",
       "      <td>0</td>\n",
       "      <td>0</td>\n",
       "      <td>0</td>\n",
       "      <td>0</td>\n",
       "      <td>0</td>\n",
       "      <td>0</td>\n",
       "      <td>0</td>\n",
       "    </tr>\n",
       "    <tr>\n",
       "      <th>...</th>\n",
       "      <td>...</td>\n",
       "      <td>...</td>\n",
       "      <td>...</td>\n",
       "      <td>...</td>\n",
       "      <td>...</td>\n",
       "      <td>...</td>\n",
       "      <td>...</td>\n",
       "      <td>...</td>\n",
       "      <td>...</td>\n",
       "      <td>...</td>\n",
       "      <td>...</td>\n",
       "      <td>...</td>\n",
       "      <td>...</td>\n",
       "      <td>...</td>\n",
       "      <td>...</td>\n",
       "      <td>...</td>\n",
       "      <td>...</td>\n",
       "      <td>...</td>\n",
       "      <td>...</td>\n",
       "      <td>...</td>\n",
       "      <td>...</td>\n",
       "    </tr>\n",
       "    <tr>\n",
       "      <th>30156</th>\n",
       "      <td>27</td>\n",
       "      <td>12</td>\n",
       "      <td>0</td>\n",
       "      <td>0</td>\n",
       "      <td>38</td>\n",
       "      <td>0</td>\n",
       "      <td>0</td>\n",
       "      <td>1</td>\n",
       "      <td>0</td>\n",
       "      <td>0</td>\n",
       "      <td>...</td>\n",
       "      <td>0</td>\n",
       "      <td>0</td>\n",
       "      <td>0</td>\n",
       "      <td>0</td>\n",
       "      <td>0</td>\n",
       "      <td>0</td>\n",
       "      <td>0</td>\n",
       "      <td>1</td>\n",
       "      <td>0</td>\n",
       "      <td>0</td>\n",
       "    </tr>\n",
       "    <tr>\n",
       "      <th>30157</th>\n",
       "      <td>40</td>\n",
       "      <td>9</td>\n",
       "      <td>0</td>\n",
       "      <td>0</td>\n",
       "      <td>40</td>\n",
       "      <td>0</td>\n",
       "      <td>0</td>\n",
       "      <td>1</td>\n",
       "      <td>0</td>\n",
       "      <td>0</td>\n",
       "      <td>...</td>\n",
       "      <td>0</td>\n",
       "      <td>0</td>\n",
       "      <td>0</td>\n",
       "      <td>0</td>\n",
       "      <td>0</td>\n",
       "      <td>0</td>\n",
       "      <td>0</td>\n",
       "      <td>1</td>\n",
       "      <td>0</td>\n",
       "      <td>0</td>\n",
       "    </tr>\n",
       "    <tr>\n",
       "      <th>30158</th>\n",
       "      <td>58</td>\n",
       "      <td>9</td>\n",
       "      <td>0</td>\n",
       "      <td>0</td>\n",
       "      <td>40</td>\n",
       "      <td>0</td>\n",
       "      <td>0</td>\n",
       "      <td>1</td>\n",
       "      <td>0</td>\n",
       "      <td>0</td>\n",
       "      <td>...</td>\n",
       "      <td>0</td>\n",
       "      <td>0</td>\n",
       "      <td>0</td>\n",
       "      <td>0</td>\n",
       "      <td>0</td>\n",
       "      <td>0</td>\n",
       "      <td>0</td>\n",
       "      <td>1</td>\n",
       "      <td>0</td>\n",
       "      <td>0</td>\n",
       "    </tr>\n",
       "    <tr>\n",
       "      <th>30159</th>\n",
       "      <td>22</td>\n",
       "      <td>9</td>\n",
       "      <td>0</td>\n",
       "      <td>0</td>\n",
       "      <td>20</td>\n",
       "      <td>0</td>\n",
       "      <td>0</td>\n",
       "      <td>1</td>\n",
       "      <td>0</td>\n",
       "      <td>0</td>\n",
       "      <td>...</td>\n",
       "      <td>0</td>\n",
       "      <td>0</td>\n",
       "      <td>0</td>\n",
       "      <td>0</td>\n",
       "      <td>0</td>\n",
       "      <td>0</td>\n",
       "      <td>0</td>\n",
       "      <td>1</td>\n",
       "      <td>0</td>\n",
       "      <td>0</td>\n",
       "    </tr>\n",
       "    <tr>\n",
       "      <th>30160</th>\n",
       "      <td>52</td>\n",
       "      <td>9</td>\n",
       "      <td>15024</td>\n",
       "      <td>0</td>\n",
       "      <td>40</td>\n",
       "      <td>0</td>\n",
       "      <td>0</td>\n",
       "      <td>0</td>\n",
       "      <td>1</td>\n",
       "      <td>0</td>\n",
       "      <td>...</td>\n",
       "      <td>0</td>\n",
       "      <td>0</td>\n",
       "      <td>0</td>\n",
       "      <td>0</td>\n",
       "      <td>0</td>\n",
       "      <td>0</td>\n",
       "      <td>0</td>\n",
       "      <td>1</td>\n",
       "      <td>0</td>\n",
       "      <td>0</td>\n",
       "    </tr>\n",
       "  </tbody>\n",
       "</table>\n",
       "<p>30161 rows × 102 columns</p>\n",
       "</div>"
      ],
      "text/plain": [
       "       age  educationno  capitalgain  capitalloss  hoursperweek  \\\n",
       "0       39           13         2174            0            40   \n",
       "1       50           13            0            0            13   \n",
       "2       38            9            0            0            40   \n",
       "3       53            7            0            0            40   \n",
       "4       28           13            0            0            40   \n",
       "...    ...          ...          ...          ...           ...   \n",
       "30156   27           12            0            0            38   \n",
       "30157   40            9            0            0            40   \n",
       "30158   58            9            0            0            40   \n",
       "30159   22            9            0            0            20   \n",
       "30160   52            9        15024            0            40   \n",
       "\n",
       "       workclass_ Federal-gov  workclass_ Local-gov  workclass_ Private  \\\n",
       "0                           0                     0                   0   \n",
       "1                           0                     0                   0   \n",
       "2                           0                     0                   1   \n",
       "3                           0                     0                   1   \n",
       "4                           0                     0                   1   \n",
       "...                       ...                   ...                 ...   \n",
       "30156                       0                     0                   1   \n",
       "30157                       0                     0                   1   \n",
       "30158                       0                     0                   1   \n",
       "30159                       0                     0                   1   \n",
       "30160                       0                     0                   0   \n",
       "\n",
       "       workclass_ Self-emp-inc  workclass_ Self-emp-not-inc  ...  \\\n",
       "0                            0                            0  ...   \n",
       "1                            0                            1  ...   \n",
       "2                            0                            0  ...   \n",
       "3                            0                            0  ...   \n",
       "4                            0                            0  ...   \n",
       "...                        ...                          ...  ...   \n",
       "30156                        0                            0  ...   \n",
       "30157                        0                            0  ...   \n",
       "30158                        0                            0  ...   \n",
       "30159                        0                            0  ...   \n",
       "30160                        1                            0  ...   \n",
       "\n",
       "       native_ Portugal  native_ Puerto-Rico  native_ Scotland  native_ South  \\\n",
       "0                     0                    0                 0              0   \n",
       "1                     0                    0                 0              0   \n",
       "2                     0                    0                 0              0   \n",
       "3                     0                    0                 0              0   \n",
       "4                     0                    0                 0              0   \n",
       "...                 ...                  ...               ...            ...   \n",
       "30156                 0                    0                 0              0   \n",
       "30157                 0                    0                 0              0   \n",
       "30158                 0                    0                 0              0   \n",
       "30159                 0                    0                 0              0   \n",
       "30160                 0                    0                 0              0   \n",
       "\n",
       "       native_ Taiwan  native_ Thailand  native_ Trinadad&Tobago  \\\n",
       "0                   0                 0                        0   \n",
       "1                   0                 0                        0   \n",
       "2                   0                 0                        0   \n",
       "3                   0                 0                        0   \n",
       "4                   0                 0                        0   \n",
       "...               ...               ...                      ...   \n",
       "30156               0                 0                        0   \n",
       "30157               0                 0                        0   \n",
       "30158               0                 0                        0   \n",
       "30159               0                 0                        0   \n",
       "30160               0                 0                        0   \n",
       "\n",
       "       native_ United-States  native_ Vietnam  native_ Yugoslavia  \n",
       "0                          1                0                   0  \n",
       "1                          1                0                   0  \n",
       "2                          1                0                   0  \n",
       "3                          1                0                   0  \n",
       "4                          0                0                   0  \n",
       "...                      ...              ...                 ...  \n",
       "30156                      1                0                   0  \n",
       "30157                      1                0                   0  \n",
       "30158                      1                0                   0  \n",
       "30159                      1                0                   0  \n",
       "30160                      1                0                   0  \n",
       "\n",
       "[30161 rows x 102 columns]"
      ]
     },
     "execution_count": 15,
     "metadata": {},
     "output_type": "execute_result"
    }
   ],
   "source": [
    "train1 = data_train.iloc[:,0:13]\n",
    "train1=pd.get_dummies(train1)\n",
    "train1"
   ]
  },
  {
   "cell_type": "code",
   "execution_count": 16,
   "id": "00b4af58",
   "metadata": {
    "ExecuteTime": {
     "end_time": "2023-09-01T09:05:08.672485Z",
     "start_time": "2023-09-01T09:05:08.623541Z"
    },
    "colab": {
     "base_uri": "https://localhost:8080/",
     "height": 522
    },
    "id": "00b4af58",
    "outputId": "e0ece7dd-fa10-4036-f41b-bfe76186ba19"
   },
   "outputs": [
    {
     "data": {
      "text/html": [
       "<div>\n",
       "<style scoped>\n",
       "    .dataframe tbody tr th:only-of-type {\n",
       "        vertical-align: middle;\n",
       "    }\n",
       "\n",
       "    .dataframe tbody tr th {\n",
       "        vertical-align: top;\n",
       "    }\n",
       "\n",
       "    .dataframe thead th {\n",
       "        text-align: right;\n",
       "    }\n",
       "</style>\n",
       "<table border=\"1\" class=\"dataframe\">\n",
       "  <thead>\n",
       "    <tr style=\"text-align: right;\">\n",
       "      <th></th>\n",
       "      <th>age</th>\n",
       "      <th>educationno</th>\n",
       "      <th>capitalgain</th>\n",
       "      <th>capitalloss</th>\n",
       "      <th>hoursperweek</th>\n",
       "      <th>workclass_ Federal-gov</th>\n",
       "      <th>workclass_ Local-gov</th>\n",
       "      <th>workclass_ Private</th>\n",
       "      <th>workclass_ Self-emp-inc</th>\n",
       "      <th>workclass_ Self-emp-not-inc</th>\n",
       "      <th>...</th>\n",
       "      <th>native_ Portugal</th>\n",
       "      <th>native_ Puerto-Rico</th>\n",
       "      <th>native_ Scotland</th>\n",
       "      <th>native_ South</th>\n",
       "      <th>native_ Taiwan</th>\n",
       "      <th>native_ Thailand</th>\n",
       "      <th>native_ Trinadad&amp;Tobago</th>\n",
       "      <th>native_ United-States</th>\n",
       "      <th>native_ Vietnam</th>\n",
       "      <th>native_ Yugoslavia</th>\n",
       "    </tr>\n",
       "  </thead>\n",
       "  <tbody>\n",
       "    <tr>\n",
       "      <th>0</th>\n",
       "      <td>25</td>\n",
       "      <td>7</td>\n",
       "      <td>0</td>\n",
       "      <td>0</td>\n",
       "      <td>40</td>\n",
       "      <td>0</td>\n",
       "      <td>0</td>\n",
       "      <td>1</td>\n",
       "      <td>0</td>\n",
       "      <td>0</td>\n",
       "      <td>...</td>\n",
       "      <td>0</td>\n",
       "      <td>0</td>\n",
       "      <td>0</td>\n",
       "      <td>0</td>\n",
       "      <td>0</td>\n",
       "      <td>0</td>\n",
       "      <td>0</td>\n",
       "      <td>1</td>\n",
       "      <td>0</td>\n",
       "      <td>0</td>\n",
       "    </tr>\n",
       "    <tr>\n",
       "      <th>1</th>\n",
       "      <td>38</td>\n",
       "      <td>9</td>\n",
       "      <td>0</td>\n",
       "      <td>0</td>\n",
       "      <td>50</td>\n",
       "      <td>0</td>\n",
       "      <td>0</td>\n",
       "      <td>1</td>\n",
       "      <td>0</td>\n",
       "      <td>0</td>\n",
       "      <td>...</td>\n",
       "      <td>0</td>\n",
       "      <td>0</td>\n",
       "      <td>0</td>\n",
       "      <td>0</td>\n",
       "      <td>0</td>\n",
       "      <td>0</td>\n",
       "      <td>0</td>\n",
       "      <td>1</td>\n",
       "      <td>0</td>\n",
       "      <td>0</td>\n",
       "    </tr>\n",
       "    <tr>\n",
       "      <th>2</th>\n",
       "      <td>28</td>\n",
       "      <td>12</td>\n",
       "      <td>0</td>\n",
       "      <td>0</td>\n",
       "      <td>40</td>\n",
       "      <td>0</td>\n",
       "      <td>1</td>\n",
       "      <td>0</td>\n",
       "      <td>0</td>\n",
       "      <td>0</td>\n",
       "      <td>...</td>\n",
       "      <td>0</td>\n",
       "      <td>0</td>\n",
       "      <td>0</td>\n",
       "      <td>0</td>\n",
       "      <td>0</td>\n",
       "      <td>0</td>\n",
       "      <td>0</td>\n",
       "      <td>1</td>\n",
       "      <td>0</td>\n",
       "      <td>0</td>\n",
       "    </tr>\n",
       "    <tr>\n",
       "      <th>3</th>\n",
       "      <td>44</td>\n",
       "      <td>10</td>\n",
       "      <td>7688</td>\n",
       "      <td>0</td>\n",
       "      <td>40</td>\n",
       "      <td>0</td>\n",
       "      <td>0</td>\n",
       "      <td>1</td>\n",
       "      <td>0</td>\n",
       "      <td>0</td>\n",
       "      <td>...</td>\n",
       "      <td>0</td>\n",
       "      <td>0</td>\n",
       "      <td>0</td>\n",
       "      <td>0</td>\n",
       "      <td>0</td>\n",
       "      <td>0</td>\n",
       "      <td>0</td>\n",
       "      <td>1</td>\n",
       "      <td>0</td>\n",
       "      <td>0</td>\n",
       "    </tr>\n",
       "    <tr>\n",
       "      <th>4</th>\n",
       "      <td>34</td>\n",
       "      <td>6</td>\n",
       "      <td>0</td>\n",
       "      <td>0</td>\n",
       "      <td>30</td>\n",
       "      <td>0</td>\n",
       "      <td>0</td>\n",
       "      <td>1</td>\n",
       "      <td>0</td>\n",
       "      <td>0</td>\n",
       "      <td>...</td>\n",
       "      <td>0</td>\n",
       "      <td>0</td>\n",
       "      <td>0</td>\n",
       "      <td>0</td>\n",
       "      <td>0</td>\n",
       "      <td>0</td>\n",
       "      <td>0</td>\n",
       "      <td>1</td>\n",
       "      <td>0</td>\n",
       "      <td>0</td>\n",
       "    </tr>\n",
       "    <tr>\n",
       "      <th>...</th>\n",
       "      <td>...</td>\n",
       "      <td>...</td>\n",
       "      <td>...</td>\n",
       "      <td>...</td>\n",
       "      <td>...</td>\n",
       "      <td>...</td>\n",
       "      <td>...</td>\n",
       "      <td>...</td>\n",
       "      <td>...</td>\n",
       "      <td>...</td>\n",
       "      <td>...</td>\n",
       "      <td>...</td>\n",
       "      <td>...</td>\n",
       "      <td>...</td>\n",
       "      <td>...</td>\n",
       "      <td>...</td>\n",
       "      <td>...</td>\n",
       "      <td>...</td>\n",
       "      <td>...</td>\n",
       "      <td>...</td>\n",
       "      <td>...</td>\n",
       "    </tr>\n",
       "    <tr>\n",
       "      <th>15055</th>\n",
       "      <td>33</td>\n",
       "      <td>13</td>\n",
       "      <td>0</td>\n",
       "      <td>0</td>\n",
       "      <td>40</td>\n",
       "      <td>0</td>\n",
       "      <td>0</td>\n",
       "      <td>1</td>\n",
       "      <td>0</td>\n",
       "      <td>0</td>\n",
       "      <td>...</td>\n",
       "      <td>0</td>\n",
       "      <td>0</td>\n",
       "      <td>0</td>\n",
       "      <td>0</td>\n",
       "      <td>0</td>\n",
       "      <td>0</td>\n",
       "      <td>0</td>\n",
       "      <td>1</td>\n",
       "      <td>0</td>\n",
       "      <td>0</td>\n",
       "    </tr>\n",
       "    <tr>\n",
       "      <th>15056</th>\n",
       "      <td>39</td>\n",
       "      <td>13</td>\n",
       "      <td>0</td>\n",
       "      <td>0</td>\n",
       "      <td>36</td>\n",
       "      <td>0</td>\n",
       "      <td>0</td>\n",
       "      <td>1</td>\n",
       "      <td>0</td>\n",
       "      <td>0</td>\n",
       "      <td>...</td>\n",
       "      <td>0</td>\n",
       "      <td>0</td>\n",
       "      <td>0</td>\n",
       "      <td>0</td>\n",
       "      <td>0</td>\n",
       "      <td>0</td>\n",
       "      <td>0</td>\n",
       "      <td>1</td>\n",
       "      <td>0</td>\n",
       "      <td>0</td>\n",
       "    </tr>\n",
       "    <tr>\n",
       "      <th>15057</th>\n",
       "      <td>38</td>\n",
       "      <td>13</td>\n",
       "      <td>0</td>\n",
       "      <td>0</td>\n",
       "      <td>50</td>\n",
       "      <td>0</td>\n",
       "      <td>0</td>\n",
       "      <td>1</td>\n",
       "      <td>0</td>\n",
       "      <td>0</td>\n",
       "      <td>...</td>\n",
       "      <td>0</td>\n",
       "      <td>0</td>\n",
       "      <td>0</td>\n",
       "      <td>0</td>\n",
       "      <td>0</td>\n",
       "      <td>0</td>\n",
       "      <td>0</td>\n",
       "      <td>1</td>\n",
       "      <td>0</td>\n",
       "      <td>0</td>\n",
       "    </tr>\n",
       "    <tr>\n",
       "      <th>15058</th>\n",
       "      <td>44</td>\n",
       "      <td>13</td>\n",
       "      <td>5455</td>\n",
       "      <td>0</td>\n",
       "      <td>40</td>\n",
       "      <td>0</td>\n",
       "      <td>0</td>\n",
       "      <td>1</td>\n",
       "      <td>0</td>\n",
       "      <td>0</td>\n",
       "      <td>...</td>\n",
       "      <td>0</td>\n",
       "      <td>0</td>\n",
       "      <td>0</td>\n",
       "      <td>0</td>\n",
       "      <td>0</td>\n",
       "      <td>0</td>\n",
       "      <td>0</td>\n",
       "      <td>1</td>\n",
       "      <td>0</td>\n",
       "      <td>0</td>\n",
       "    </tr>\n",
       "    <tr>\n",
       "      <th>15059</th>\n",
       "      <td>35</td>\n",
       "      <td>13</td>\n",
       "      <td>0</td>\n",
       "      <td>0</td>\n",
       "      <td>60</td>\n",
       "      <td>0</td>\n",
       "      <td>0</td>\n",
       "      <td>0</td>\n",
       "      <td>1</td>\n",
       "      <td>0</td>\n",
       "      <td>...</td>\n",
       "      <td>0</td>\n",
       "      <td>0</td>\n",
       "      <td>0</td>\n",
       "      <td>0</td>\n",
       "      <td>0</td>\n",
       "      <td>0</td>\n",
       "      <td>0</td>\n",
       "      <td>1</td>\n",
       "      <td>0</td>\n",
       "      <td>0</td>\n",
       "    </tr>\n",
       "  </tbody>\n",
       "</table>\n",
       "<p>15060 rows × 102 columns</p>\n",
       "</div>"
      ],
      "text/plain": [
       "       age  educationno  capitalgain  capitalloss  hoursperweek  \\\n",
       "0       25            7            0            0            40   \n",
       "1       38            9            0            0            50   \n",
       "2       28           12            0            0            40   \n",
       "3       44           10         7688            0            40   \n",
       "4       34            6            0            0            30   \n",
       "...    ...          ...          ...          ...           ...   \n",
       "15055   33           13            0            0            40   \n",
       "15056   39           13            0            0            36   \n",
       "15057   38           13            0            0            50   \n",
       "15058   44           13         5455            0            40   \n",
       "15059   35           13            0            0            60   \n",
       "\n",
       "       workclass_ Federal-gov  workclass_ Local-gov  workclass_ Private  \\\n",
       "0                           0                     0                   1   \n",
       "1                           0                     0                   1   \n",
       "2                           0                     1                   0   \n",
       "3                           0                     0                   1   \n",
       "4                           0                     0                   1   \n",
       "...                       ...                   ...                 ...   \n",
       "15055                       0                     0                   1   \n",
       "15056                       0                     0                   1   \n",
       "15057                       0                     0                   1   \n",
       "15058                       0                     0                   1   \n",
       "15059                       0                     0                   0   \n",
       "\n",
       "       workclass_ Self-emp-inc  workclass_ Self-emp-not-inc  ...  \\\n",
       "0                            0                            0  ...   \n",
       "1                            0                            0  ...   \n",
       "2                            0                            0  ...   \n",
       "3                            0                            0  ...   \n",
       "4                            0                            0  ...   \n",
       "...                        ...                          ...  ...   \n",
       "15055                        0                            0  ...   \n",
       "15056                        0                            0  ...   \n",
       "15057                        0                            0  ...   \n",
       "15058                        0                            0  ...   \n",
       "15059                        1                            0  ...   \n",
       "\n",
       "       native_ Portugal  native_ Puerto-Rico  native_ Scotland  native_ South  \\\n",
       "0                     0                    0                 0              0   \n",
       "1                     0                    0                 0              0   \n",
       "2                     0                    0                 0              0   \n",
       "3                     0                    0                 0              0   \n",
       "4                     0                    0                 0              0   \n",
       "...                 ...                  ...               ...            ...   \n",
       "15055                 0                    0                 0              0   \n",
       "15056                 0                    0                 0              0   \n",
       "15057                 0                    0                 0              0   \n",
       "15058                 0                    0                 0              0   \n",
       "15059                 0                    0                 0              0   \n",
       "\n",
       "       native_ Taiwan  native_ Thailand  native_ Trinadad&Tobago  \\\n",
       "0                   0                 0                        0   \n",
       "1                   0                 0                        0   \n",
       "2                   0                 0                        0   \n",
       "3                   0                 0                        0   \n",
       "4                   0                 0                        0   \n",
       "...               ...               ...                      ...   \n",
       "15055               0                 0                        0   \n",
       "15056               0                 0                        0   \n",
       "15057               0                 0                        0   \n",
       "15058               0                 0                        0   \n",
       "15059               0                 0                        0   \n",
       "\n",
       "       native_ United-States  native_ Vietnam  native_ Yugoslavia  \n",
       "0                          1                0                   0  \n",
       "1                          1                0                   0  \n",
       "2                          1                0                   0  \n",
       "3                          1                0                   0  \n",
       "4                          1                0                   0  \n",
       "...                      ...              ...                 ...  \n",
       "15055                      1                0                   0  \n",
       "15056                      1                0                   0  \n",
       "15057                      1                0                   0  \n",
       "15058                      1                0                   0  \n",
       "15059                      1                0                   0  \n",
       "\n",
       "[15060 rows x 102 columns]"
      ]
     },
     "execution_count": 16,
     "metadata": {},
     "output_type": "execute_result"
    }
   ],
   "source": [
    "test1=data_test.iloc[0:,0:13]\n",
    "test1=pd.get_dummies(test1)\n",
    "test1"
   ]
  },
  {
   "cell_type": "markdown",
   "id": "1fc03c57",
   "metadata": {
    "id": "1fc03c57"
   },
   "source": [
    "#### as we have many coloums we can use PCA"
   ]
  },
  {
   "cell_type": "code",
   "execution_count": 17,
   "id": "d7c9f722",
   "metadata": {
    "ExecuteTime": {
     "end_time": "2023-09-01T09:05:17.383759Z",
     "start_time": "2023-09-01T09:05:17.278836Z"
    },
    "colab": {
     "base_uri": "https://localhost:8080/"
    },
    "id": "d7c9f722",
    "outputId": "66062c20-e5b4-4d72-98c1-5312855539f6"
   },
   "outputs": [
    {
     "data": {
      "text/plain": [
       "array([[ 0.04277892,  1.12889813,  0.14608503, ...,  0.31081205,\n",
       "        -0.04611353, -0.0230384 ],\n",
       "       [ 0.88026081,  1.12889813, -0.14744712, ...,  0.31081205,\n",
       "        -0.04611353, -0.0230384 ],\n",
       "       [-0.0333558 , -0.4397325 , -0.14744712, ...,  0.31081205,\n",
       "        -0.04611353, -0.0230384 ],\n",
       "       ...,\n",
       "       [ 1.48933854, -0.4397325 , -0.14744712, ...,  0.31081205,\n",
       "        -0.04611353, -0.0230384 ],\n",
       "       [-1.25151126, -0.4397325 , -0.14744712, ...,  0.31081205,\n",
       "        -0.04611353, -0.0230384 ],\n",
       "       [ 1.03253024, -0.4397325 ,  1.88108414, ...,  0.31081205,\n",
       "        -0.04611353, -0.0230384 ]])"
      ]
     },
     "execution_count": 17,
     "metadata": {},
     "output_type": "execute_result"
    }
   ],
   "source": [
    "# we need to standize or normailze the data for PCA\n",
    "from sklearn.preprocessing import StandardScaler\n",
    "sc=StandardScaler()\n",
    "sc.fit(train1)\n",
    "train_norm=sc.transform(train1)\n",
    "train_norm\n"
   ]
  },
  {
   "cell_type": "code",
   "execution_count": 18,
   "id": "5e8fbbfd",
   "metadata": {
    "ExecuteTime": {
     "end_time": "2023-09-01T09:05:18.655676Z",
     "start_time": "2023-09-01T09:05:18.581609Z"
    },
    "colab": {
     "base_uri": "https://localhost:8080/"
    },
    "id": "5e8fbbfd",
    "outputId": "a2ddd941-b2b2-47e8-a113-d2bc5a56c522",
    "scrolled": true
   },
   "outputs": [
    {
     "data": {
      "text/plain": [
       "array([[-1.02900513, -1.2165628 , -0.14543845, ...,  0.30373366,\n",
       "        -0.03554172, -0.02156441],\n",
       "       [-0.05742253, -0.43489824, -0.14543845, ...,  0.30373366,\n",
       "        -0.03554172, -0.02156441],\n",
       "       [-0.80479376,  0.73759862, -0.14543845, ...,  0.30373366,\n",
       "        -0.03554172, -0.02156441],\n",
       "       ...,\n",
       "       [-0.05742253,  1.1284309 , -0.14543845, ...,  0.30373366,\n",
       "        -0.03554172, -0.02156441],\n",
       "       [ 0.39100021,  1.1284309 ,  0.562734  , ...,  0.30373366,\n",
       "        -0.03554172, -0.02156441],\n",
       "       [-0.2816339 ,  1.1284309 , -0.14543845, ...,  0.30373366,\n",
       "        -0.03554172, -0.02156441]])"
      ]
     },
     "execution_count": 18,
     "metadata": {},
     "output_type": "execute_result"
    }
   ],
   "source": [
    "# same for the test data\n",
    "from sklearn.preprocessing import StandardScaler\n",
    "sc=StandardScaler()\n",
    "sc.fit(test1)\n",
    "test_norm=sc.transform(test1)\n",
    "test_norm"
   ]
  },
  {
   "cell_type": "code",
   "execution_count": 19,
   "id": "a83ac14c",
   "metadata": {
    "ExecuteTime": {
     "end_time": "2023-09-01T09:05:19.978544Z",
     "start_time": "2023-09-01T09:05:19.306049Z"
    },
    "colab": {
     "base_uri": "https://localhost:8080/"
    },
    "id": "a83ac14c",
    "outputId": "82619f97-4f47-4e01-b4a3-f41cea7b253b"
   },
   "outputs": [
    {
     "data": {
      "text/plain": [
       "array([[-5.50838008e-01, -2.38164986e+00, -5.91921169e-01, ...,\n",
       "         6.37243463e-15, -6.55913851e-15, -1.80475065e-15],\n",
       "       [ 2.81915829e+00, -1.37085459e+00, -4.81126421e-02, ...,\n",
       "         1.57159220e-15, -1.91877509e-15,  1.04184659e-16],\n",
       "       [-7.93831525e-01,  8.71803957e-01, -1.20213150e+00, ...,\n",
       "         5.97245446e-16, -2.52576042e-16, -6.45090203e-16],\n",
       "       ...,\n",
       "       [-2.37835145e+00, -7.98690413e-01,  3.39105780e-01, ...,\n",
       "         7.84322420e-18, -9.36387283e-17, -6.20729586e-18],\n",
       "       [-1.97547719e+00,  1.19305162e+00, -1.82899406e+00, ...,\n",
       "         2.67883568e-16,  2.50923448e-17, -1.24549221e-16],\n",
       "       [ 7.62131786e-01, -1.77200870e+00,  5.36971989e-01, ...,\n",
       "        -4.92437031e-17, -3.76156678e-17, -5.63343024e-19]])"
      ]
     },
     "execution_count": 19,
     "metadata": {},
     "output_type": "execute_result"
    }
   ],
   "source": [
    "# applying pca\n",
    "from sklearn.decomposition import PCA\n",
    "train_pca=PCA(n_components=102)\n",
    "train_pca_values=train_pca.fit_transform(train_norm)\n",
    "train_pca_values"
   ]
  },
  {
   "cell_type": "code",
   "execution_count": 20,
   "id": "28ea27e6",
   "metadata": {
    "ExecuteTime": {
     "end_time": "2023-09-01T09:05:20.147090Z",
     "start_time": "2023-09-01T09:05:19.978544Z"
    },
    "colab": {
     "base_uri": "https://localhost:8080/"
    },
    "id": "28ea27e6",
    "outputId": "db9c0d76-35fd-4c41-ae82-056c378a220c"
   },
   "outputs": [
    {
     "data": {
      "text/plain": [
       "array([[-2.24293780e+00,  2.60318091e+00, -3.27616503e-01, ...,\n",
       "         2.66680915e-15, -2.45535425e-16, -5.97007647e-17],\n",
       "       [ 2.22690391e+00,  1.59471521e+00, -7.32082794e-01, ...,\n",
       "         1.42665567e-15,  1.73758092e-15,  4.63247367e-16],\n",
       "       [ 2.30704416e+00, -1.16883181e+00, -2.00521481e-01, ...,\n",
       "         3.14067449e-16, -1.87240777e-16,  1.31476107e-16],\n",
       "       ...,\n",
       "       [ 2.39583218e+00, -1.46859740e+00, -2.09424792e-01, ...,\n",
       "        -2.42185573e-17,  3.15923772e-17, -3.15717504e-17],\n",
       "       [-1.14039506e+00, -1.03678137e+00,  2.58079490e+00, ...,\n",
       "         2.12655413e-16, -4.39153092e-17, -9.03893939e-17],\n",
       "       [ 3.38445120e+00, -1.95481575e+00, -1.72791531e-01, ...,\n",
       "         8.87910275e-17,  9.03928493e-17,  2.46675502e-18]])"
      ]
     },
     "execution_count": 20,
     "metadata": {},
     "output_type": "execute_result"
    }
   ],
   "source": [
    " # same for test data\n",
    "from sklearn.decomposition import PCA\n",
    "test_pca=PCA(n_components=102)\n",
    "test_pca_values=test_pca.fit_transform(test_norm)\n",
    "test_pca_values"
   ]
  },
  {
   "cell_type": "code",
   "execution_count": 21,
   "id": "3b4a2e04",
   "metadata": {
    "ExecuteTime": {
     "end_time": "2023-09-01T09:05:20.788505Z",
     "start_time": "2023-09-01T09:05:20.772159Z"
    },
    "colab": {
     "base_uri": "https://localhost:8080/"
    },
    "id": "3b4a2e04",
    "outputId": "2cdcd5cc-b7d4-4cb3-8f15-7643e9943a4b"
   },
   "outputs": [
    {
     "data": {
      "text/plain": [
       "array([4.47952203e-02, 3.03018755e-02, 2.56772664e-02, 2.30740938e-02,\n",
       "       1.90544461e-02, 1.75159608e-02, 1.66112958e-02, 1.51765356e-02,\n",
       "       1.40918479e-02, 1.37139289e-02, 1.30161578e-02, 1.27145892e-02,\n",
       "       1.22845420e-02, 1.20633855e-02, 1.19277829e-02, 1.17776199e-02,\n",
       "       1.15732784e-02, 1.14595050e-02, 1.12290572e-02, 1.10955712e-02,\n",
       "       1.09763472e-02, 1.09664173e-02, 1.08013630e-02, 1.07163253e-02,\n",
       "       1.06965233e-02, 1.06243926e-02, 1.05150466e-02, 1.04401201e-02,\n",
       "       1.04195534e-02, 1.03772631e-02, 1.02585913e-02, 1.02518285e-02,\n",
       "       1.02343018e-02, 1.02011311e-02, 1.01746044e-02, 1.00893885e-02,\n",
       "       1.00693090e-02, 1.00007488e-02, 9.97967518e-03, 9.93621541e-03,\n",
       "       9.91132587e-03, 9.87257873e-03, 9.85864172e-03, 9.85346688e-03,\n",
       "       9.83507641e-03, 9.82654639e-03, 9.82141035e-03, 9.81950938e-03,\n",
       "       9.81361594e-03, 9.80760489e-03, 9.80531422e-03, 9.80056163e-03,\n",
       "       9.79178710e-03, 9.77352236e-03, 9.77198782e-03, 9.75826765e-03,\n",
       "       9.72396821e-03, 9.71129292e-03, 9.68894621e-03, 9.68294717e-03,\n",
       "       9.66009263e-03, 9.63768491e-03, 9.62281079e-03, 9.58462673e-03,\n",
       "       9.56141726e-03, 9.52463771e-03, 9.42925368e-03, 9.41301408e-03,\n",
       "       9.36144053e-03, 9.30687373e-03, 9.28398704e-03, 9.11455862e-03,\n",
       "       9.07861857e-03, 9.01571083e-03, 8.94583330e-03, 8.83778340e-03,\n",
       "       8.72770250e-03, 8.59927945e-03, 8.45704067e-03, 8.40278797e-03,\n",
       "       8.31065450e-03, 7.87100230e-03, 7.65417979e-03, 7.17339353e-03,\n",
       "       7.15472018e-03, 6.46609230e-03, 6.11577048e-03, 5.95158857e-03,\n",
       "       5.31995594e-03, 4.76166961e-03, 4.27250537e-03, 2.37624831e-03,\n",
       "       1.95586706e-04, 9.21928142e-33, 7.58910915e-33, 1.61174017e-33,\n",
       "       1.56527766e-33, 1.19984042e-33, 5.02811044e-34, 4.14011618e-34,\n",
       "       3.30590014e-34, 7.38484255e-35])"
      ]
     },
     "execution_count": 21,
     "metadata": {},
     "output_type": "execute_result"
    }
   ],
   "source": [
    "# the amount of variance that each PCA explains is\n",
    "var=train_pca.explained_variance_ratio_\n",
    "var"
   ]
  },
  {
   "cell_type": "code",
   "execution_count": 22,
   "id": "31a6ac71",
   "metadata": {
    "ExecuteTime": {
     "end_time": "2023-09-01T09:05:21.544829Z",
     "start_time": "2023-09-01T09:05:21.520185Z"
    },
    "colab": {
     "base_uri": "https://localhost:8080/"
    },
    "id": "31a6ac71",
    "outputId": "690e8329-536d-45cf-aaa2-2d342f9f0abc"
   },
   "outputs": [
    {
     "data": {
      "text/plain": [
       "array([0.0448, 0.0751, 0.1008, 0.1239, 0.143 , 0.1605, 0.1771, 0.1923,\n",
       "       0.2064, 0.2201, 0.2331, 0.2458, 0.2581, 0.2702, 0.2821, 0.2939,\n",
       "       0.3055, 0.317 , 0.3282, 0.3393, 0.3503, 0.3613, 0.3721, 0.3828,\n",
       "       0.3935, 0.4041, 0.4146, 0.425 , 0.4354, 0.4458, 0.4561, 0.4664,\n",
       "       0.4766, 0.4868, 0.497 , 0.5071, 0.5172, 0.5272, 0.5372, 0.5471,\n",
       "       0.557 , 0.5669, 0.5768, 0.5867, 0.5965, 0.6063, 0.6161, 0.6259,\n",
       "       0.6357, 0.6455, 0.6553, 0.6651, 0.6749, 0.6847, 0.6945, 0.7043,\n",
       "       0.714 , 0.7237, 0.7334, 0.7431, 0.7528, 0.7624, 0.772 , 0.7816,\n",
       "       0.7912, 0.8007, 0.8101, 0.8195, 0.8289, 0.8382, 0.8475, 0.8566,\n",
       "       0.8657, 0.8747, 0.8836, 0.8924, 0.9011, 0.9097, 0.9182, 0.9266,\n",
       "       0.9349, 0.9428, 0.9505, 0.9577, 0.9649, 0.9714, 0.9775, 0.9835,\n",
       "       0.9888, 0.9936, 0.9979, 1.0003, 1.0005, 1.0005, 1.0005, 1.0005,\n",
       "       1.0005, 1.0005, 1.0005, 1.0005, 1.0005, 1.0005])"
      ]
     },
     "execution_count": 22,
     "metadata": {},
     "output_type": "execute_result"
    }
   ],
   "source": [
    "# Cumulative variance\n",
    "var1=np.cumsum(np.round(var,decimals=4))\n",
    "var1"
   ]
  },
  {
   "cell_type": "code",
   "execution_count": 23,
   "id": "027a1d02",
   "metadata": {
    "ExecuteTime": {
     "end_time": "2023-09-01T09:05:22.668416Z",
     "start_time": "2023-09-01T09:05:22.546193Z"
    },
    "colab": {
     "base_uri": "https://localhost:8080/",
     "height": 428
    },
    "id": "027a1d02",
    "outputId": "4bc16b52-67e9-47c1-f0bc-84e4016c7708"
   },
   "outputs": [
    {
     "data": {
      "text/plain": [
       "[<matplotlib.lines.Line2D at 0x139861f95e0>]"
      ]
     },
     "execution_count": 23,
     "metadata": {},
     "output_type": "execute_result"
    },
    {
     "data": {
      "image/png": "[encoded data removed]",
      "text/plain": [
       "<Figure size 1500x500 with 1 Axes>"
      ]
     },
     "metadata": {},
     "output_type": "display_data"
    }
   ],
   "source": [
    "# variance plot for PCA\n",
    "plt.figure(figsize=(15,5))\n",
    "plt.plot(var1,color=\"red\")"
   ]
  },
  {
   "cell_type": "markdown",
   "id": "4b787cec",
   "metadata": {
    "id": "4b787cec"
   },
   "source": [
    "#### Selecting first 90 PCAs out of total 102\n"
   ]
  },
  {
   "cell_type": "code",
   "execution_count": 24,
   "id": "5ac07585",
   "metadata": {
    "ExecuteTime": {
     "end_time": "2023-09-01T09:05:38.530467Z",
     "start_time": "2023-09-01T09:05:38.472955Z"
    },
    "colab": {
     "base_uri": "https://localhost:8080/",
     "height": 487
    },
    "id": "5ac07585",
    "outputId": "3a0da768-9f98-45ba-bbb5-53e9f6c0834d"
   },
   "outputs": [
    {
     "data": {
      "text/html": [
       "<div>\n",
       "<style scoped>\n",
       "    .dataframe tbody tr th:only-of-type {\n",
       "        vertical-align: middle;\n",
       "    }\n",
       "\n",
       "    .dataframe tbody tr th {\n",
       "        vertical-align: top;\n",
       "    }\n",
       "\n",
       "    .dataframe thead th {\n",
       "        text-align: right;\n",
       "    }\n",
       "</style>\n",
       "<table border=\"1\" class=\"dataframe\">\n",
       "  <thead>\n",
       "    <tr style=\"text-align: right;\">\n",
       "      <th></th>\n",
       "      <th>0</th>\n",
       "      <th>1</th>\n",
       "      <th>2</th>\n",
       "      <th>3</th>\n",
       "      <th>4</th>\n",
       "      <th>5</th>\n",
       "      <th>6</th>\n",
       "      <th>7</th>\n",
       "      <th>8</th>\n",
       "      <th>9</th>\n",
       "      <th>...</th>\n",
       "      <th>81</th>\n",
       "      <th>82</th>\n",
       "      <th>83</th>\n",
       "      <th>84</th>\n",
       "      <th>85</th>\n",
       "      <th>86</th>\n",
       "      <th>87</th>\n",
       "      <th>88</th>\n",
       "      <th>89</th>\n",
       "      <th>Salary</th>\n",
       "    </tr>\n",
       "  </thead>\n",
       "  <tbody>\n",
       "    <tr>\n",
       "      <th>0</th>\n",
       "      <td>-0.550838</td>\n",
       "      <td>-2.381650</td>\n",
       "      <td>-0.591921</td>\n",
       "      <td>1.433211</td>\n",
       "      <td>0.340516</td>\n",
       "      <td>1.940931</td>\n",
       "      <td>-0.055056</td>\n",
       "      <td>0.515267</td>\n",
       "      <td>-0.603118</td>\n",
       "      <td>-1.349744</td>\n",
       "      <td>...</td>\n",
       "      <td>0.925827</td>\n",
       "      <td>0.366843</td>\n",
       "      <td>0.762292</td>\n",
       "      <td>0.955908</td>\n",
       "      <td>-0.431471</td>\n",
       "      <td>-0.253518</td>\n",
       "      <td>-0.090683</td>\n",
       "      <td>1.446239</td>\n",
       "      <td>0.537054</td>\n",
       "      <td>&lt;=50K</td>\n",
       "    </tr>\n",
       "    <tr>\n",
       "      <th>1</th>\n",
       "      <td>2.819158</td>\n",
       "      <td>-1.370855</td>\n",
       "      <td>-0.048113</td>\n",
       "      <td>0.060772</td>\n",
       "      <td>0.148609</td>\n",
       "      <td>0.494097</td>\n",
       "      <td>0.971070</td>\n",
       "      <td>0.977166</td>\n",
       "      <td>-1.058340</td>\n",
       "      <td>1.543212</td>\n",
       "      <td>...</td>\n",
       "      <td>1.715245</td>\n",
       "      <td>-0.684681</td>\n",
       "      <td>0.173783</td>\n",
       "      <td>-1.120804</td>\n",
       "      <td>1.043838</td>\n",
       "      <td>-1.127099</td>\n",
       "      <td>0.538383</td>\n",
       "      <td>-0.179721</td>\n",
       "      <td>0.006457</td>\n",
       "      <td>&lt;=50K</td>\n",
       "    </tr>\n",
       "    <tr>\n",
       "      <th>2</th>\n",
       "      <td>-0.793832</td>\n",
       "      <td>0.871804</td>\n",
       "      <td>-1.202131</td>\n",
       "      <td>-0.513685</td>\n",
       "      <td>0.452004</td>\n",
       "      <td>0.675599</td>\n",
       "      <td>-2.665003</td>\n",
       "      <td>0.041210</td>\n",
       "      <td>0.966047</td>\n",
       "      <td>-0.942719</td>\n",
       "      <td>...</td>\n",
       "      <td>0.666397</td>\n",
       "      <td>-0.126942</td>\n",
       "      <td>-0.368158</td>\n",
       "      <td>0.399572</td>\n",
       "      <td>0.094164</td>\n",
       "      <td>-0.001750</td>\n",
       "      <td>-0.622668</td>\n",
       "      <td>0.114582</td>\n",
       "      <td>0.079789</td>\n",
       "      <td>&lt;=50K</td>\n",
       "    </tr>\n",
       "    <tr>\n",
       "      <th>3</th>\n",
       "      <td>0.732942</td>\n",
       "      <td>2.502494</td>\n",
       "      <td>0.763990</td>\n",
       "      <td>-0.149514</td>\n",
       "      <td>-3.056486</td>\n",
       "      <td>0.166519</td>\n",
       "      <td>0.140931</td>\n",
       "      <td>-2.430582</td>\n",
       "      <td>0.155941</td>\n",
       "      <td>1.066790</td>\n",
       "      <td>...</td>\n",
       "      <td>0.058897</td>\n",
       "      <td>0.409911</td>\n",
       "      <td>0.952768</td>\n",
       "      <td>0.193645</td>\n",
       "      <td>0.292208</td>\n",
       "      <td>0.033568</td>\n",
       "      <td>-0.226799</td>\n",
       "      <td>-0.779685</td>\n",
       "      <td>0.367130</td>\n",
       "      <td>&lt;=50K</td>\n",
       "    </tr>\n",
       "    <tr>\n",
       "      <th>4</th>\n",
       "      <td>-1.070350</td>\n",
       "      <td>-1.638424</td>\n",
       "      <td>4.542395</td>\n",
       "      <td>0.260940</td>\n",
       "      <td>0.650488</td>\n",
       "      <td>-2.473710</td>\n",
       "      <td>2.483233</td>\n",
       "      <td>-2.795740</td>\n",
       "      <td>-0.249688</td>\n",
       "      <td>1.001833</td>\n",
       "      <td>...</td>\n",
       "      <td>-1.388747</td>\n",
       "      <td>0.857151</td>\n",
       "      <td>-1.132278</td>\n",
       "      <td>0.924125</td>\n",
       "      <td>0.087501</td>\n",
       "      <td>-0.409813</td>\n",
       "      <td>-0.711475</td>\n",
       "      <td>0.566080</td>\n",
       "      <td>-1.599465</td>\n",
       "      <td>&lt;=50K</td>\n",
       "    </tr>\n",
       "    <tr>\n",
       "      <th>...</th>\n",
       "      <td>...</td>\n",
       "      <td>...</td>\n",
       "      <td>...</td>\n",
       "      <td>...</td>\n",
       "      <td>...</td>\n",
       "      <td>...</td>\n",
       "      <td>...</td>\n",
       "      <td>...</td>\n",
       "      <td>...</td>\n",
       "      <td>...</td>\n",
       "      <td>...</td>\n",
       "      <td>...</td>\n",
       "      <td>...</td>\n",
       "      <td>...</td>\n",
       "      <td>...</td>\n",
       "      <td>...</td>\n",
       "      <td>...</td>\n",
       "      <td>...</td>\n",
       "      <td>...</td>\n",
       "      <td>...</td>\n",
       "      <td>...</td>\n",
       "    </tr>\n",
       "    <tr>\n",
       "      <th>30156</th>\n",
       "      <td>-0.766825</td>\n",
       "      <td>-1.596732</td>\n",
       "      <td>-0.037113</td>\n",
       "      <td>-0.576608</td>\n",
       "      <td>0.331904</td>\n",
       "      <td>-3.490439</td>\n",
       "      <td>2.320920</td>\n",
       "      <td>-0.117277</td>\n",
       "      <td>-0.388185</td>\n",
       "      <td>-1.112954</td>\n",
       "      <td>...</td>\n",
       "      <td>-0.680328</td>\n",
       "      <td>0.177364</td>\n",
       "      <td>-0.265304</td>\n",
       "      <td>-0.170305</td>\n",
       "      <td>0.307492</td>\n",
       "      <td>-0.087299</td>\n",
       "      <td>-0.407937</td>\n",
       "      <td>1.072890</td>\n",
       "      <td>-0.389103</td>\n",
       "      <td>&lt;=50K</td>\n",
       "    </tr>\n",
       "    <tr>\n",
       "      <th>30157</th>\n",
       "      <td>1.704432</td>\n",
       "      <td>1.785328</td>\n",
       "      <td>-0.594925</td>\n",
       "      <td>-0.692498</td>\n",
       "      <td>-0.411458</td>\n",
       "      <td>-1.251061</td>\n",
       "      <td>-0.505186</td>\n",
       "      <td>-0.513443</td>\n",
       "      <td>1.286209</td>\n",
       "      <td>-0.530841</td>\n",
       "      <td>...</td>\n",
       "      <td>0.603116</td>\n",
       "      <td>-0.279650</td>\n",
       "      <td>0.035936</td>\n",
       "      <td>0.532717</td>\n",
       "      <td>-0.070438</td>\n",
       "      <td>-0.160400</td>\n",
       "      <td>0.100112</td>\n",
       "      <td>-0.124855</td>\n",
       "      <td>0.253184</td>\n",
       "      <td>&gt;50K</td>\n",
       "    </tr>\n",
       "    <tr>\n",
       "      <th>30158</th>\n",
       "      <td>-2.378351</td>\n",
       "      <td>-0.798690</td>\n",
       "      <td>0.339106</td>\n",
       "      <td>-4.067833</td>\n",
       "      <td>0.281604</td>\n",
       "      <td>-1.215646</td>\n",
       "      <td>-0.253538</td>\n",
       "      <td>1.090962</td>\n",
       "      <td>0.960431</td>\n",
       "      <td>0.065679</td>\n",
       "      <td>...</td>\n",
       "      <td>-1.205160</td>\n",
       "      <td>0.177494</td>\n",
       "      <td>0.668585</td>\n",
       "      <td>0.528450</td>\n",
       "      <td>0.580482</td>\n",
       "      <td>0.156868</td>\n",
       "      <td>-0.442096</td>\n",
       "      <td>0.753165</td>\n",
       "      <td>-0.657852</td>\n",
       "      <td>&lt;=50K</td>\n",
       "    </tr>\n",
       "    <tr>\n",
       "      <th>30159</th>\n",
       "      <td>-1.975477</td>\n",
       "      <td>1.193052</td>\n",
       "      <td>-1.828994</td>\n",
       "      <td>1.598638</td>\n",
       "      <td>-0.633416</td>\n",
       "      <td>-0.187607</td>\n",
       "      <td>0.789310</td>\n",
       "      <td>0.860548</td>\n",
       "      <td>0.808205</td>\n",
       "      <td>-0.906124</td>\n",
       "      <td>...</td>\n",
       "      <td>1.329776</td>\n",
       "      <td>-0.312235</td>\n",
       "      <td>0.180269</td>\n",
       "      <td>-1.124998</td>\n",
       "      <td>0.500770</td>\n",
       "      <td>-0.047237</td>\n",
       "      <td>-0.227867</td>\n",
       "      <td>0.993340</td>\n",
       "      <td>-0.939524</td>\n",
       "      <td>&lt;=50K</td>\n",
       "    </tr>\n",
       "    <tr>\n",
       "      <th>30160</th>\n",
       "      <td>0.762132</td>\n",
       "      <td>-1.772009</td>\n",
       "      <td>0.536972</td>\n",
       "      <td>-2.417460</td>\n",
       "      <td>0.352371</td>\n",
       "      <td>-1.720856</td>\n",
       "      <td>2.466035</td>\n",
       "      <td>1.201089</td>\n",
       "      <td>0.049580</td>\n",
       "      <td>2.336657</td>\n",
       "      <td>...</td>\n",
       "      <td>-0.101924</td>\n",
       "      <td>-0.081743</td>\n",
       "      <td>-1.601187</td>\n",
       "      <td>-0.338971</td>\n",
       "      <td>0.643763</td>\n",
       "      <td>-0.635779</td>\n",
       "      <td>0.200448</td>\n",
       "      <td>0.645174</td>\n",
       "      <td>-0.861073</td>\n",
       "      <td>&gt;50K</td>\n",
       "    </tr>\n",
       "  </tbody>\n",
       "</table>\n",
       "<p>30161 rows × 91 columns</p>\n",
       "</div>"
      ],
      "text/plain": [
       "              0         1         2         3         4         5         6  \\\n",
       "0     -0.550838 -2.381650 -0.591921  1.433211  0.340516  1.940931 -0.055056   \n",
       "1      2.819158 -1.370855 -0.048113  0.060772  0.148609  0.494097  0.971070   \n",
       "2     -0.793832  0.871804 -1.202131 -0.513685  0.452004  0.675599 -2.665003   \n",
       "3      0.732942  2.502494  0.763990 -0.149514 -3.056486  0.166519  0.140931   \n",
       "4     -1.070350 -1.638424  4.542395  0.260940  0.650488 -2.473710  2.483233   \n",
       "...         ...       ...       ...       ...       ...       ...       ...   \n",
       "30156 -0.766825 -1.596732 -0.037113 -0.576608  0.331904 -3.490439  2.320920   \n",
       "30157  1.704432  1.785328 -0.594925 -0.692498 -0.411458 -1.251061 -0.505186   \n",
       "30158 -2.378351 -0.798690  0.339106 -4.067833  0.281604 -1.215646 -0.253538   \n",
       "30159 -1.975477  1.193052 -1.828994  1.598638 -0.633416 -0.187607  0.789310   \n",
       "30160  0.762132 -1.772009  0.536972 -2.417460  0.352371 -1.720856  2.466035   \n",
       "\n",
       "              7         8         9  ...        81        82        83  \\\n",
       "0      0.515267 -0.603118 -1.349744  ...  0.925827  0.366843  0.762292   \n",
       "1      0.977166 -1.058340  1.543212  ...  1.715245 -0.684681  0.173783   \n",
       "2      0.041210  0.966047 -0.942719  ...  0.666397 -0.126942 -0.368158   \n",
       "3     -2.430582  0.155941  1.066790  ...  0.058897  0.409911  0.952768   \n",
       "4     -2.795740 -0.249688  1.001833  ... -1.388747  0.857151 -1.132278   \n",
       "...         ...       ...       ...  ...       ...       ...       ...   \n",
       "30156 -0.117277 -0.388185 -1.112954  ... -0.680328  0.177364 -0.265304   \n",
       "30157 -0.513443  1.286209 -0.530841  ...  0.603116 -0.279650  0.035936   \n",
       "30158  1.090962  0.960431  0.065679  ... -1.205160  0.177494  0.668585   \n",
       "30159  0.860548  0.808205 -0.906124  ...  1.329776 -0.312235  0.180269   \n",
       "30160  1.201089  0.049580  2.336657  ... -0.101924 -0.081743 -1.601187   \n",
       "\n",
       "             84        85        86        87        88        89  Salary  \n",
       "0      0.955908 -0.431471 -0.253518 -0.090683  1.446239  0.537054   <=50K  \n",
       "1     -1.120804  1.043838 -1.127099  0.538383 -0.179721  0.006457   <=50K  \n",
       "2      0.399572  0.094164 -0.001750 -0.622668  0.114582  0.079789   <=50K  \n",
       "3      0.193645  0.292208  0.033568 -0.226799 -0.779685  0.367130   <=50K  \n",
       "4      0.924125  0.087501 -0.409813 -0.711475  0.566080 -1.599465   <=50K  \n",
       "...         ...       ...       ...       ...       ...       ...     ...  \n",
       "30156 -0.170305  0.307492 -0.087299 -0.407937  1.072890 -0.389103   <=50K  \n",
       "30157  0.532717 -0.070438 -0.160400  0.100112 -0.124855  0.253184    >50K  \n",
       "30158  0.528450  0.580482  0.156868 -0.442096  0.753165 -0.657852   <=50K  \n",
       "30159 -1.124998  0.500770 -0.047237 -0.227867  0.993340 -0.939524   <=50K  \n",
       "30160 -0.338971  0.643763 -0.635779  0.200448  0.645174 -0.861073    >50K  \n",
       "\n",
       "[30161 rows x 91 columns]"
      ]
     },
     "execution_count": 24,
     "metadata": {},
     "output_type": "execute_result"
    }
   ],
   "source": [
    "finaltrain = pd.concat([pd.DataFrame(train_pca_values[:,0:90]),\n",
    "                     data_train[['Salary']]], axis = 1)\n",
    "finaltrain\n"
   ]
  },
  {
   "cell_type": "code",
   "execution_count": 25,
   "id": "c69a4875",
   "metadata": {
    "ExecuteTime": {
     "end_time": "2023-09-01T09:05:41.395921Z",
     "start_time": "2023-09-01T09:05:41.331817Z"
    },
    "colab": {
     "base_uri": "https://localhost:8080/",
     "height": 487
    },
    "id": "c69a4875",
    "outputId": "26b1d637-6def-4ff6-bef2-fe50106758e5"
   },
   "outputs": [
    {
     "data": {
      "text/html": [
       "<div>\n",
       "<style scoped>\n",
       "    .dataframe tbody tr th:only-of-type {\n",
       "        vertical-align: middle;\n",
       "    }\n",
       "\n",
       "    .dataframe tbody tr th {\n",
       "        vertical-align: top;\n",
       "    }\n",
       "\n",
       "    .dataframe thead th {\n",
       "        text-align: right;\n",
       "    }\n",
       "</style>\n",
       "<table border=\"1\" class=\"dataframe\">\n",
       "  <thead>\n",
       "    <tr style=\"text-align: right;\">\n",
       "      <th></th>\n",
       "      <th>0</th>\n",
       "      <th>1</th>\n",
       "      <th>2</th>\n",
       "      <th>3</th>\n",
       "      <th>4</th>\n",
       "      <th>5</th>\n",
       "      <th>6</th>\n",
       "      <th>7</th>\n",
       "      <th>8</th>\n",
       "      <th>9</th>\n",
       "      <th>...</th>\n",
       "      <th>81</th>\n",
       "      <th>82</th>\n",
       "      <th>83</th>\n",
       "      <th>84</th>\n",
       "      <th>85</th>\n",
       "      <th>86</th>\n",
       "      <th>87</th>\n",
       "      <th>88</th>\n",
       "      <th>89</th>\n",
       "      <th>Salary</th>\n",
       "    </tr>\n",
       "  </thead>\n",
       "  <tbody>\n",
       "    <tr>\n",
       "      <th>0</th>\n",
       "      <td>-0.550838</td>\n",
       "      <td>-2.381650</td>\n",
       "      <td>-0.591921</td>\n",
       "      <td>1.433211</td>\n",
       "      <td>0.340516</td>\n",
       "      <td>1.940931</td>\n",
       "      <td>-0.055056</td>\n",
       "      <td>0.515267</td>\n",
       "      <td>-0.603118</td>\n",
       "      <td>-1.349744</td>\n",
       "      <td>...</td>\n",
       "      <td>0.925827</td>\n",
       "      <td>0.366843</td>\n",
       "      <td>0.762292</td>\n",
       "      <td>0.955908</td>\n",
       "      <td>-0.431471</td>\n",
       "      <td>-0.253518</td>\n",
       "      <td>-0.090683</td>\n",
       "      <td>1.446239</td>\n",
       "      <td>0.537054</td>\n",
       "      <td>&lt;=50K</td>\n",
       "    </tr>\n",
       "    <tr>\n",
       "      <th>1</th>\n",
       "      <td>2.819158</td>\n",
       "      <td>-1.370855</td>\n",
       "      <td>-0.048113</td>\n",
       "      <td>0.060772</td>\n",
       "      <td>0.148609</td>\n",
       "      <td>0.494097</td>\n",
       "      <td>0.971070</td>\n",
       "      <td>0.977166</td>\n",
       "      <td>-1.058340</td>\n",
       "      <td>1.543212</td>\n",
       "      <td>...</td>\n",
       "      <td>1.715245</td>\n",
       "      <td>-0.684681</td>\n",
       "      <td>0.173783</td>\n",
       "      <td>-1.120804</td>\n",
       "      <td>1.043838</td>\n",
       "      <td>-1.127099</td>\n",
       "      <td>0.538383</td>\n",
       "      <td>-0.179721</td>\n",
       "      <td>0.006457</td>\n",
       "      <td>&lt;=50K</td>\n",
       "    </tr>\n",
       "    <tr>\n",
       "      <th>2</th>\n",
       "      <td>-0.793832</td>\n",
       "      <td>0.871804</td>\n",
       "      <td>-1.202131</td>\n",
       "      <td>-0.513685</td>\n",
       "      <td>0.452004</td>\n",
       "      <td>0.675599</td>\n",
       "      <td>-2.665003</td>\n",
       "      <td>0.041210</td>\n",
       "      <td>0.966047</td>\n",
       "      <td>-0.942719</td>\n",
       "      <td>...</td>\n",
       "      <td>0.666397</td>\n",
       "      <td>-0.126942</td>\n",
       "      <td>-0.368158</td>\n",
       "      <td>0.399572</td>\n",
       "      <td>0.094164</td>\n",
       "      <td>-0.001750</td>\n",
       "      <td>-0.622668</td>\n",
       "      <td>0.114582</td>\n",
       "      <td>0.079789</td>\n",
       "      <td>&gt;50K</td>\n",
       "    </tr>\n",
       "    <tr>\n",
       "      <th>3</th>\n",
       "      <td>0.732942</td>\n",
       "      <td>2.502494</td>\n",
       "      <td>0.763990</td>\n",
       "      <td>-0.149514</td>\n",
       "      <td>-3.056486</td>\n",
       "      <td>0.166519</td>\n",
       "      <td>0.140931</td>\n",
       "      <td>-2.430582</td>\n",
       "      <td>0.155941</td>\n",
       "      <td>1.066790</td>\n",
       "      <td>...</td>\n",
       "      <td>0.058897</td>\n",
       "      <td>0.409911</td>\n",
       "      <td>0.952768</td>\n",
       "      <td>0.193645</td>\n",
       "      <td>0.292208</td>\n",
       "      <td>0.033568</td>\n",
       "      <td>-0.226799</td>\n",
       "      <td>-0.779685</td>\n",
       "      <td>0.367130</td>\n",
       "      <td>&gt;50K</td>\n",
       "    </tr>\n",
       "    <tr>\n",
       "      <th>4</th>\n",
       "      <td>-1.070350</td>\n",
       "      <td>-1.638424</td>\n",
       "      <td>4.542395</td>\n",
       "      <td>0.260940</td>\n",
       "      <td>0.650488</td>\n",
       "      <td>-2.473710</td>\n",
       "      <td>2.483233</td>\n",
       "      <td>-2.795740</td>\n",
       "      <td>-0.249688</td>\n",
       "      <td>1.001833</td>\n",
       "      <td>...</td>\n",
       "      <td>-1.388747</td>\n",
       "      <td>0.857151</td>\n",
       "      <td>-1.132278</td>\n",
       "      <td>0.924125</td>\n",
       "      <td>0.087501</td>\n",
       "      <td>-0.409813</td>\n",
       "      <td>-0.711475</td>\n",
       "      <td>0.566080</td>\n",
       "      <td>-1.599465</td>\n",
       "      <td>&lt;=50K</td>\n",
       "    </tr>\n",
       "    <tr>\n",
       "      <th>...</th>\n",
       "      <td>...</td>\n",
       "      <td>...</td>\n",
       "      <td>...</td>\n",
       "      <td>...</td>\n",
       "      <td>...</td>\n",
       "      <td>...</td>\n",
       "      <td>...</td>\n",
       "      <td>...</td>\n",
       "      <td>...</td>\n",
       "      <td>...</td>\n",
       "      <td>...</td>\n",
       "      <td>...</td>\n",
       "      <td>...</td>\n",
       "      <td>...</td>\n",
       "      <td>...</td>\n",
       "      <td>...</td>\n",
       "      <td>...</td>\n",
       "      <td>...</td>\n",
       "      <td>...</td>\n",
       "      <td>...</td>\n",
       "      <td>...</td>\n",
       "    </tr>\n",
       "    <tr>\n",
       "      <th>30156</th>\n",
       "      <td>-0.766825</td>\n",
       "      <td>-1.596732</td>\n",
       "      <td>-0.037113</td>\n",
       "      <td>-0.576608</td>\n",
       "      <td>0.331904</td>\n",
       "      <td>-3.490439</td>\n",
       "      <td>2.320920</td>\n",
       "      <td>-0.117277</td>\n",
       "      <td>-0.388185</td>\n",
       "      <td>-1.112954</td>\n",
       "      <td>...</td>\n",
       "      <td>-0.680328</td>\n",
       "      <td>0.177364</td>\n",
       "      <td>-0.265304</td>\n",
       "      <td>-0.170305</td>\n",
       "      <td>0.307492</td>\n",
       "      <td>-0.087299</td>\n",
       "      <td>-0.407937</td>\n",
       "      <td>1.072890</td>\n",
       "      <td>-0.389103</td>\n",
       "      <td>NaN</td>\n",
       "    </tr>\n",
       "    <tr>\n",
       "      <th>30157</th>\n",
       "      <td>1.704432</td>\n",
       "      <td>1.785328</td>\n",
       "      <td>-0.594925</td>\n",
       "      <td>-0.692498</td>\n",
       "      <td>-0.411458</td>\n",
       "      <td>-1.251061</td>\n",
       "      <td>-0.505186</td>\n",
       "      <td>-0.513443</td>\n",
       "      <td>1.286209</td>\n",
       "      <td>-0.530841</td>\n",
       "      <td>...</td>\n",
       "      <td>0.603116</td>\n",
       "      <td>-0.279650</td>\n",
       "      <td>0.035936</td>\n",
       "      <td>0.532717</td>\n",
       "      <td>-0.070438</td>\n",
       "      <td>-0.160400</td>\n",
       "      <td>0.100112</td>\n",
       "      <td>-0.124855</td>\n",
       "      <td>0.253184</td>\n",
       "      <td>NaN</td>\n",
       "    </tr>\n",
       "    <tr>\n",
       "      <th>30158</th>\n",
       "      <td>-2.378351</td>\n",
       "      <td>-0.798690</td>\n",
       "      <td>0.339106</td>\n",
       "      <td>-4.067833</td>\n",
       "      <td>0.281604</td>\n",
       "      <td>-1.215646</td>\n",
       "      <td>-0.253538</td>\n",
       "      <td>1.090962</td>\n",
       "      <td>0.960431</td>\n",
       "      <td>0.065679</td>\n",
       "      <td>...</td>\n",
       "      <td>-1.205160</td>\n",
       "      <td>0.177494</td>\n",
       "      <td>0.668585</td>\n",
       "      <td>0.528450</td>\n",
       "      <td>0.580482</td>\n",
       "      <td>0.156868</td>\n",
       "      <td>-0.442096</td>\n",
       "      <td>0.753165</td>\n",
       "      <td>-0.657852</td>\n",
       "      <td>NaN</td>\n",
       "    </tr>\n",
       "    <tr>\n",
       "      <th>30159</th>\n",
       "      <td>-1.975477</td>\n",
       "      <td>1.193052</td>\n",
       "      <td>-1.828994</td>\n",
       "      <td>1.598638</td>\n",
       "      <td>-0.633416</td>\n",
       "      <td>-0.187607</td>\n",
       "      <td>0.789310</td>\n",
       "      <td>0.860548</td>\n",
       "      <td>0.808205</td>\n",
       "      <td>-0.906124</td>\n",
       "      <td>...</td>\n",
       "      <td>1.329776</td>\n",
       "      <td>-0.312235</td>\n",
       "      <td>0.180269</td>\n",
       "      <td>-1.124998</td>\n",
       "      <td>0.500770</td>\n",
       "      <td>-0.047237</td>\n",
       "      <td>-0.227867</td>\n",
       "      <td>0.993340</td>\n",
       "      <td>-0.939524</td>\n",
       "      <td>NaN</td>\n",
       "    </tr>\n",
       "    <tr>\n",
       "      <th>30160</th>\n",
       "      <td>0.762132</td>\n",
       "      <td>-1.772009</td>\n",
       "      <td>0.536972</td>\n",
       "      <td>-2.417460</td>\n",
       "      <td>0.352371</td>\n",
       "      <td>-1.720856</td>\n",
       "      <td>2.466035</td>\n",
       "      <td>1.201089</td>\n",
       "      <td>0.049580</td>\n",
       "      <td>2.336657</td>\n",
       "      <td>...</td>\n",
       "      <td>-0.101924</td>\n",
       "      <td>-0.081743</td>\n",
       "      <td>-1.601187</td>\n",
       "      <td>-0.338971</td>\n",
       "      <td>0.643763</td>\n",
       "      <td>-0.635779</td>\n",
       "      <td>0.200448</td>\n",
       "      <td>0.645174</td>\n",
       "      <td>-0.861073</td>\n",
       "      <td>NaN</td>\n",
       "    </tr>\n",
       "  </tbody>\n",
       "</table>\n",
       "<p>30161 rows × 91 columns</p>\n",
       "</div>"
      ],
      "text/plain": [
       "              0         1         2         3         4         5         6  \\\n",
       "0     -0.550838 -2.381650 -0.591921  1.433211  0.340516  1.940931 -0.055056   \n",
       "1      2.819158 -1.370855 -0.048113  0.060772  0.148609  0.494097  0.971070   \n",
       "2     -0.793832  0.871804 -1.202131 -0.513685  0.452004  0.675599 -2.665003   \n",
       "3      0.732942  2.502494  0.763990 -0.149514 -3.056486  0.166519  0.140931   \n",
       "4     -1.070350 -1.638424  4.542395  0.260940  0.650488 -2.473710  2.483233   \n",
       "...         ...       ...       ...       ...       ...       ...       ...   \n",
       "30156 -0.766825 -1.596732 -0.037113 -0.576608  0.331904 -3.490439  2.320920   \n",
       "30157  1.704432  1.785328 -0.594925 -0.692498 -0.411458 -1.251061 -0.505186   \n",
       "30158 -2.378351 -0.798690  0.339106 -4.067833  0.281604 -1.215646 -0.253538   \n",
       "30159 -1.975477  1.193052 -1.828994  1.598638 -0.633416 -0.187607  0.789310   \n",
       "30160  0.762132 -1.772009  0.536972 -2.417460  0.352371 -1.720856  2.466035   \n",
       "\n",
       "              7         8         9  ...        81        82        83  \\\n",
       "0      0.515267 -0.603118 -1.349744  ...  0.925827  0.366843  0.762292   \n",
       "1      0.977166 -1.058340  1.543212  ...  1.715245 -0.684681  0.173783   \n",
       "2      0.041210  0.966047 -0.942719  ...  0.666397 -0.126942 -0.368158   \n",
       "3     -2.430582  0.155941  1.066790  ...  0.058897  0.409911  0.952768   \n",
       "4     -2.795740 -0.249688  1.001833  ... -1.388747  0.857151 -1.132278   \n",
       "...         ...       ...       ...  ...       ...       ...       ...   \n",
       "30156 -0.117277 -0.388185 -1.112954  ... -0.680328  0.177364 -0.265304   \n",
       "30157 -0.513443  1.286209 -0.530841  ...  0.603116 -0.279650  0.035936   \n",
       "30158  1.090962  0.960431  0.065679  ... -1.205160  0.177494  0.668585   \n",
       "30159  0.860548  0.808205 -0.906124  ...  1.329776 -0.312235  0.180269   \n",
       "30160  1.201089  0.049580  2.336657  ... -0.101924 -0.081743 -1.601187   \n",
       "\n",
       "             84        85        86        87        88        89  Salary  \n",
       "0      0.955908 -0.431471 -0.253518 -0.090683  1.446239  0.537054   <=50K  \n",
       "1     -1.120804  1.043838 -1.127099  0.538383 -0.179721  0.006457   <=50K  \n",
       "2      0.399572  0.094164 -0.001750 -0.622668  0.114582  0.079789    >50K  \n",
       "3      0.193645  0.292208  0.033568 -0.226799 -0.779685  0.367130    >50K  \n",
       "4      0.924125  0.087501 -0.409813 -0.711475  0.566080 -1.599465   <=50K  \n",
       "...         ...       ...       ...       ...       ...       ...     ...  \n",
       "30156 -0.170305  0.307492 -0.087299 -0.407937  1.072890 -0.389103     NaN  \n",
       "30157  0.532717 -0.070438 -0.160400  0.100112 -0.124855  0.253184     NaN  \n",
       "30158  0.528450  0.580482  0.156868 -0.442096  0.753165 -0.657852     NaN  \n",
       "30159 -1.124998  0.500770 -0.047237 -0.227867  0.993340 -0.939524     NaN  \n",
       "30160 -0.338971  0.643763 -0.635779  0.200448  0.645174 -0.861073     NaN  \n",
       "\n",
       "[30161 rows x 91 columns]"
      ]
     },
     "execution_count": 25,
     "metadata": {},
     "output_type": "execute_result"
    }
   ],
   "source": [
    "finaltest = pd.concat([pd.DataFrame(train_pca_values[:,0:90]),\n",
    "                     data_test[['Salary']]], axis = 1)\n",
    "finaltest"
   ]
  },
  {
   "cell_type": "code",
   "execution_count": 26,
   "id": "9ed42c77",
   "metadata": {
    "ExecuteTime": {
     "end_time": "2023-09-01T09:05:42.183380Z",
     "start_time": "2023-09-01T09:05:42.086487Z"
    },
    "id": "9ed42c77"
   },
   "outputs": [],
   "source": [
    "#Since the training dataset is huge, we'll use some part of it for the training purpose, to reduce time consumed.\n",
    "array = finaltrain.values\n",
    "X = array[0:1000,0:90]\n",
    "Y = array[0:1000,90]"
   ]
  },
  {
   "cell_type": "markdown",
   "id": "eb9fb01b",
   "metadata": {
    "id": "eb9fb01b"
   },
   "source": [
    "###   Since the training and test datasets are separately given in the problem, so we'll use them separately for model validation\n"
   ]
  },
  {
   "cell_type": "markdown",
   "id": "5917f8f5",
   "metadata": {
    "id": "5917f8f5"
   },
   "source": [
    "### SVM Classification\n",
    "Let's use Grid search CV to find out best value for params\n",
    "\n"
   ]
  },
  {
   "cell_type": "code",
   "execution_count": 27,
   "id": "3e6d27c3",
   "metadata": {
    "ExecuteTime": {
     "end_time": "2023-09-01T09:05:51.638277Z",
     "start_time": "2023-09-01T09:05:51.589809Z"
    },
    "id": "3e6d27c3"
   },
   "outputs": [],
   "source": [
    "from sklearn.feature_extraction.text import CountVectorizer\n",
    "from sklearn.preprocessing import StandardScaler\n",
    "from sklearn import svm\n",
    "from sklearn.svm import SVC\n",
    "from sklearn.model_selection import GridSearchCV\n",
    "\n",
    "from sklearn import svm\n",
    "from sklearn.svm import SVC\n",
    "from sklearn.model_selection import GridSearchCV\n",
    "from sklearn.metrics import classification_report\n",
    "\n",
    "\n",
    "from sklearn.metrics import accuracy_score, confusion_matrix\n",
    "from sklearn.model_selection import train_test_split, cross_val_score"
   ]
  },
  {
   "cell_type": "code",
   "execution_count": 28,
   "id": "80e51128",
   "metadata": {
    "ExecuteTime": {
     "end_time": "2023-09-01T09:06:06.109541Z",
     "start_time": "2023-09-01T09:05:52.357908Z"
    },
    "colab": {
     "base_uri": "https://localhost:8080/"
    },
    "id": "80e51128",
    "outputId": "592e4394-2f75-4c60-e3f8-7a242f5a8f24"
   },
   "outputs": [
    {
     "data": {
      "text/plain": [
       "({'C': 10, 'kernel': 'linear'}, 0.8220000000000001)"
      ]
     },
     "execution_count": 28,
     "metadata": {},
     "output_type": "execute_result"
    }
   ],
   "source": [
    "clf = SVC()\n",
    "param_grid = [{'kernel':['rbf'],'gamma':[0.9,0.5,0.1],'C':[1,10,100] },\n",
    "             {'kernel':['linear'],'C':[1,10,100]}]\n",
    "gsv = GridSearchCV(clf,param_grid,cv=10,n_jobs=-1)\n",
    "gsv.fit(X,Y)\n",
    "\n",
    "gsv.best_params_ , gsv.best_score_"
   ]
  },
  {
   "cell_type": "code",
   "execution_count": 29,
   "id": "afe708d7",
   "metadata": {
    "ExecuteTime": {
     "end_time": "2023-09-01T09:06:06.287015Z",
     "start_time": "2023-09-01T09:06:06.111124Z"
    },
    "id": "afe708d7"
   },
   "outputs": [],
   "source": [
    "#Since the testing dataset is huge, we'll use some part of it for the test purpose, to reduce the time consumed.\n",
    "x = finaltest.values[0:1000,0:90]\n",
    "y = finaltest.values[0:1000,90]"
   ]
  },
  {
   "cell_type": "code",
   "execution_count": 30,
   "id": "436d1469",
   "metadata": {
    "ExecuteTime": {
     "end_time": "2023-09-01T09:06:07.159794Z",
     "start_time": "2023-09-01T09:06:06.287015Z"
    },
    "colab": {
     "base_uri": "https://localhost:8080/"
    },
    "id": "436d1469",
    "outputId": "287f76ce-3e07-458b-9734-0fbded7bccb1"
   },
   "outputs": [
    {
     "name": "stdout",
     "output_type": "stream",
     "text": [
      "0.758\n"
     ]
    }
   ],
   "source": [
    "#SVM Clasification\n",
    "clf = SVC(C=10, kernel='linear')\n",
    "clf.fit(x,y)\n",
    "results = clf.score(x,y)\n",
    "print(np.round(results, 4))\n"
   ]
  },
  {
   "cell_type": "markdown",
   "id": "8c80024e",
   "metadata": {
    "id": "8c80024e"
   },
   "source": [
    "#### Now, let's try some Ensemble methods to see if we can further increase the accuracy of the model\n"
   ]
  },
  {
   "cell_type": "markdown",
   "id": "c5c1cfee",
   "metadata": {
    "id": "c5c1cfee"
   },
   "source": [
    "### Trial-1: Bagging\n"
   ]
  },
  {
   "cell_type": "code",
   "execution_count": 31,
   "id": "4c88d46e",
   "metadata": {
    "ExecuteTime": {
     "end_time": "2023-09-01T09:06:10.919723Z",
     "start_time": "2023-09-01T09:06:07.159794Z"
    },
    "colab": {
     "base_uri": "https://localhost:8080/"
    },
    "id": "4c88d46e",
    "outputId": "667b905a-30a2-4be6-c762-cc22c2c5232c"
   },
   "outputs": [
    {
     "name": "stdout",
     "output_type": "stream",
     "text": [
      "0.993\n"
     ]
    }
   ],
   "source": [
    "# Bagged Decision Trees for Classification\n",
    "from sklearn.model_selection import KFold\n",
    "from sklearn.model_selection import cross_val_score\n",
    "from sklearn.ensemble import BaggingClassifier\n",
    "from sklearn.tree import DecisionTreeClassifier\n",
    "\n",
    "seed = 7\n",
    "cart = DecisionTreeClassifier()\n",
    "num_trees = 100\n",
    "model = BaggingClassifier(base_estimator=cart, n_estimators=num_trees, random_state=seed)\n",
    "model.fit(x,y)\n",
    "results = model.score(x,y)\n",
    "print(np.round(results, 4))"
   ]
  },
  {
   "cell_type": "markdown",
   "id": "9c4a5101",
   "metadata": {
    "id": "9c4a5101"
   },
   "source": [
    "### Trial-2: Random Forest\n"
   ]
  },
  {
   "cell_type": "code",
   "execution_count": 32,
   "id": "5034c0a4",
   "metadata": {
    "ExecuteTime": {
     "end_time": "2023-09-01T09:06:11.144799Z",
     "start_time": "2023-09-01T09:06:10.919723Z"
    },
    "colab": {
     "base_uri": "https://localhost:8080/"
    },
    "id": "5034c0a4",
    "outputId": "c320b79b-2ed2-4c16-f69d-bc57a4d41a28"
   },
   "outputs": [
    {
     "name": "stdout",
     "output_type": "stream",
     "text": [
      "0.993\n"
     ]
    }
   ],
   "source": [
    "# Random Forest Classification\n",
    "\n",
    "from sklearn.ensemble import RandomForestClassifier\n",
    "\n",
    "num_trees = 100\n",
    "max_features = 3\n",
    "model = RandomForestClassifier(n_estimators=num_trees, max_features=max_features)\n",
    "model.fit(x,y)\n",
    "results = model.score(x,y)\n",
    "print(np.round(results, 4))"
   ]
  },
  {
   "cell_type": "markdown",
   "id": "0d37c7cd",
   "metadata": {
    "id": "0d37c7cd"
   },
   "source": [
    "### Trial-3: Boosting\n"
   ]
  },
  {
   "cell_type": "code",
   "execution_count": 33,
   "id": "0bdc74b9",
   "metadata": {
    "ExecuteTime": {
     "end_time": "2023-09-01T09:06:12.353634Z",
     "start_time": "2023-09-01T09:06:11.144799Z"
    },
    "colab": {
     "base_uri": "https://localhost:8080/"
    },
    "id": "0bdc74b9",
    "outputId": "d67ce54f-7273-4cf5-8a1a-dbc105336f38"
   },
   "outputs": [
    {
     "name": "stdout",
     "output_type": "stream",
     "text": [
      "0.87\n"
     ]
    }
   ],
   "source": [
    "# AdaBoost Classification\n",
    "\n",
    "from sklearn.ensemble import AdaBoostClassifier\n",
    "num_trees = 100\n",
    "seed=7\n",
    "\n",
    "model = AdaBoostClassifier(n_estimators=num_trees, random_state=seed)\n",
    "model.fit(x,y)\n",
    "results = model.score(x,y)\n",
    "print(np.round(results, 4))\n"
   ]
  },
  {
   "cell_type": "markdown",
   "id": "a8357d45",
   "metadata": {
    "id": "a8357d45"
   },
   "source": [
    "### Trial-4: Stacking\n"
   ]
  },
  {
   "cell_type": "code",
   "execution_count": 34,
   "id": "ea64b149",
   "metadata": {
    "ExecuteTime": {
     "end_time": "2023-09-01T09:06:12.364477Z",
     "start_time": "2023-09-01T09:06:12.353634Z"
    },
    "id": "ea64b149"
   },
   "outputs": [],
   "source": [
    "# Stacking Ensemble for Classification\n",
    "from sklearn.linear_model import LogisticRegression\n",
    "from sklearn.tree import DecisionTreeClassifier\n",
    "from sklearn.svm import SVC\n",
    "from sklearn.ensemble import VotingClassifier"
   ]
  },
  {
   "cell_type": "code",
   "execution_count": 35,
   "id": "78a654ca",
   "metadata": {
    "ExecuteTime": {
     "end_time": "2023-09-01T09:06:13.074303Z",
     "start_time": "2023-09-01T09:06:12.805211Z"
    },
    "colab": {
     "base_uri": "https://localhost:8080/"
    },
    "id": "78a654ca",
    "outputId": "be6e4f7c-e12c-4cb2-9f2f-6c54c447332d"
   },
   "outputs": [
    {
     "name": "stdout",
     "output_type": "stream",
     "text": [
      "0.775\n"
     ]
    }
   ],
   "source": [
    "# create the sub models\n",
    "estimators = []\n",
    "model = LogisticRegression(max_iter=500)\n",
    "estimators.append(('logistic', model))\n",
    "model = DecisionTreeClassifier()\n",
    "estimators.append(('cart', model))\n",
    "model = SVC()\n",
    "estimators.append(('svm', model))\n",
    "\n",
    "# create the ensemble model\n",
    "ensemble = VotingClassifier(estimators)\n",
    "ensemble.fit(x,y)\n",
    "results = ensemble.score(x,y)\n",
    "print(np.round(results, 4))"
   ]
  },
  {
   "cell_type": "code",
   "execution_count": 36,
   "id": "3e05a57a",
   "metadata": {
    "ExecuteTime": {
     "end_time": "2023-09-01T09:06:14.858395Z",
     "start_time": "2023-09-01T09:06:13.595534Z"
    },
    "colab": {
     "base_uri": "https://localhost:8080/"
    },
    "id": "3e05a57a",
    "outputId": "2f4e59bd-c0ce-483e-eca4-00e1394c6618"
   },
   "outputs": [
    {
     "name": "stdout",
     "output_type": "stream",
     "text": [
      "0.877\n"
     ]
    }
   ],
   "source": [
    "# create the sub models\n",
    "estimators = []\n",
    "model = LogisticRegression(max_iter=500)\n",
    "estimators.append(('logistic', model))\n",
    "model = DecisionTreeClassifier()\n",
    "estimators.append(('cart', model))\n",
    "model = AdaBoostClassifier(n_estimators=num_trees, random_state=seed)\n",
    "estimators.append(('Boosting', model))\n",
    "\n",
    "# create the ensemble model\n",
    "ensemble = VotingClassifier(estimators)\n",
    "ensemble.fit(x,y)\n",
    "results = ensemble.score(x,y)\n",
    "print(np.round(results, 4))"
   ]
  },
  {
   "cell_type": "markdown",
   "id": "13a8ce93",
   "metadata": {
    "id": "13a8ce93"
   },
   "source": [
    "#### Hence, we can say that Bagging/Random Forest- any of them is equally best predicting model for this dataset"
   ]
  },
  {
   "cell_type": "code",
   "execution_count": null,
   "id": "5629bf2f",
   "metadata": {
    "id": "5629bf2f"
   },
   "outputs": [],
   "source": []
  },
  {
   "cell_type": "code",
   "execution_count": null,
   "id": "ebdf4656",
   "metadata": {
    "id": "ebdf4656"
   },
   "outputs": [],
   "source": []
  },
  {
   "cell_type": "code",
   "execution_count": null,
   "id": "1296bab1",
   "metadata": {
    "id": "1296bab1"
   },
   "outputs": [],
   "source": []
  },
  {
   "cell_type": "code",
   "execution_count": null,
   "id": "fe7d31ef",
   "metadata": {
    "id": "fe7d31ef"
   },
   "outputs": [],
   "source": []
  },
  {
   "cell_type": "code",
   "execution_count": null,
   "id": "82410225",
   "metadata": {
    "id": "82410225"
   },
   "outputs": [],
   "source": []
  },
  {
   "cell_type": "code",
   "execution_count": null,
   "id": "767014b2",
   "metadata": {
    "id": "767014b2"
   },
   "outputs": [],
   "source": []
  },
  {
   "cell_type": "code",
   "execution_count": null,
   "id": "c0a8bb87",
   "metadata": {
    "id": "c0a8bb87"
   },
   "outputs": [],
   "source": []
  },
  {
   "cell_type": "code",
   "execution_count": null,
   "id": "2287eadc",
   "metadata": {
    "id": "2287eadc"
   },
   "outputs": [],
   "source": []
  }
 ],
 "metadata": {
  "colab": {
   "provenance": []
  },
  "kernelspec": {
   "display_name": "Python 3 (ipykernel)",
   "language": "python",
   "name": "python3"
  },
  "language_info": {
   "codemirror_mode": {
    "name": "ipython",
    "version": 3
   },
   "file_extension": ".py",
   "mimetype": "text/x-python",
   "name": "python",
   "nbconvert_exporter": "python",
   "pygments_lexer": "ipython3",
   "version": "3.9.13"
  }
 },
 "nbformat": 4,
 "nbformat_minor": 5
}
